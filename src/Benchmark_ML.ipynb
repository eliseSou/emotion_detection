{
 "cells": [
  {
   "cell_type": "markdown",
   "id": "58766f63-d8a2-4c7b-be64-29c2b5edbc1f",
   "metadata": {
    "id": "58766f63-d8a2-4c7b-be64-29c2b5edbc1f"
   },
   "source": [
    "# <center>Real-time emotion detection</center>\n",
    "\n",
    "Authors : DOUET Marie, GRINDEL Brice, MARTIN Lucas, SOUVANNAVONG Elise"
   ]
  },
  {
   "cell_type": "markdown",
   "id": "a6dd6d75-9298-43cb-8652-3bbe6ce68884",
   "metadata": {
    "id": "a6dd6d75-9298-43cb-8652-3bbe6ce68884"
   },
   "source": [
    "## Global imports"
   ]
  },
  {
   "cell_type": "code",
   "execution_count": 11,
   "id": "78f0e6f3-5f21-4b2c-ac1b-054dd8b0c3b4",
   "metadata": {
    "id": "78f0e6f3-5f21-4b2c-ac1b-054dd8b0c3b4"
   },
   "outputs": [],
   "source": [
    "import numpy as np\n",
    "import os\n",
    "import soundfile\n",
    "import librosa\n",
    "from sklearn.model_selection import train_test_split\n",
    "from sklearn.metrics import accuracy_score\n",
    "from tqdm.notebook import tqdm_notebook\n",
    "import pandas as pd\n",
    "from sklearn.neural_network import MLPClassifier\n",
    "from sklearn.ensemble import RandomForestClassifier\n",
    "import tensorflow as tf\n",
    "from tensorflow.keras import layers, models\n",
    "from sklearn.model_selection import train_test_split\n",
    "from sklearn.preprocessing import LabelEncoder\n",
    "from tensorflow.keras.utils import to_categorical"
   ]
  },
  {
   "cell_type": "markdown",
   "id": "92224615-2952-416e-bf74-7955c188449e",
   "metadata": {},
   "source": [
    "## Global functions"
   ]
  },
  {
   "cell_type": "code",
   "execution_count": 6,
   "id": "f628c3b2-0aee-40c8-86d1-a418dab3a20d",
   "metadata": {},
   "outputs": [],
   "source": [
    "def extract_feature(file_name, mfcc=True, chroma=True, mel=True):\n",
    "    with soundfile.SoundFile(file_name) as sound_file:\n",
    "        X = sound_file.read(dtype=\"float32\")\n",
    "\n",
    "        sample_rate = sound_file.samplerate\n",
    "\n",
    "        if chroma:\n",
    "            stft = np.abs(librosa.stft(X))\n",
    "        result=np.array([])\n",
    "\n",
    "        # MFCC Criterias (short-term power spectrum of a sound)\n",
    "        if mfcc:\n",
    "            mfccs = np.mean(librosa.feature.mfcc(y=X, sr=sample_rate, n_mfcc=40).T, axis=0)\n",
    "            result = np.hstack((result, mfccs))\n",
    "\n",
    "        # Pertains to the 12 diffrent pitch classes\n",
    "        if chroma:\n",
    "            chroma = np.mean(librosa.feature.chroma_stft(S=stft, sr=sample_rate).T,axis=0)\n",
    "            result = np.hstack((result, chroma))\n",
    "        \n",
    "        # MEL Spectrogram Frequency\n",
    "        if mel:\n",
    "            mel = np.mean(librosa.feature.melspectrogram(y=X, sr=sample_rate).T,axis=0)\n",
    "            result = np.hstack((result, mel))\n",
    "    return result"
   ]
  },
  {
   "cell_type": "markdown",
   "id": "d44b126b-6f6f-4339-9011-58f650149ac9",
   "metadata": {
    "id": "d44b126b-6f6f-4339-9011-58f650149ac9"
   },
   "source": [
    "## Benchmark of datasets"
   ]
  },
  {
   "cell_type": "markdown",
   "id": "e0506795",
   "metadata": {
    "jp-MarkdownHeadingCollapsed": true
   },
   "source": [
    "### RAVDESS"
   ]
  },
  {
   "cell_type": "code",
   "execution_count": 7,
   "id": "b2bd9806",
   "metadata": {},
   "outputs": [],
   "source": [
    "emotions = {\n",
    "    '01': \"neutral\", \n",
    "    '02': \"calm\", \n",
    "    '03': \"happy\", \n",
    "    '04': \"sad\", \n",
    "    '05': \"angry\", \n",
    "    '06': \"fearful\", \n",
    "    '07': \"disgust\", \n",
    "    '08': \"surprised\"\n",
    "}\n",
    "\n",
    "# Removed 'calm' emotion\n",
    "observed_emotions = ['neutral', 'happy', 'sad', 'angry', 'fearful', 'disgust', 'surprised']"
   ]
  },
  {
   "cell_type": "code",
   "execution_count": 8,
   "id": "289edf7d",
   "metadata": {},
   "outputs": [],
   "source": [
    "def load_data(folder_path, emotions, excluded_files=[], test_size=0.2):\n",
    "    x,y = [],[]\n",
    "    files = os.listdir(folder_path)\n",
    "    \n",
    "    # iterations with the progress bar\n",
    "    for i in tqdm_notebook(range(len(files)-len(excluded_files))):\n",
    "        file = files[i]\n",
    "        \n",
    "        if file not in excluded_files:\n",
    "            file_name = os.path.basename(file)\n",
    "            emotion = emotions[file_name.split(\"-\")[2]]\n",
    "\n",
    "            if emotion not in observed_emotions:\n",
    "                continue\n",
    "\n",
    "            feature = extract_feature(folder_path + \"/\" + file)\n",
    "\n",
    "            x.append(feature)\n",
    "            y.append(emotion)\n",
    "    return np.array(x), np.array(y)"
   ]
  },
  {
   "cell_type": "code",
   "execution_count": 9,
   "id": "b139a51c",
   "metadata": {},
   "outputs": [
    {
     "data": {
      "application/vnd.jupyter.widget-view+json": {
       "model_id": "b21ab7f96ccb4076b3b9f593e09de4f7",
       "version_major": 2,
       "version_minor": 0
      },
      "text/plain": [
       "  0%|          | 0/1436 [00:00<?, ?it/s]"
      ]
     },
     "metadata": {},
     "output_type": "display_data"
    }
   ],
   "source": [
    "ravdess_folder = \"./data_samples/RAVDESS\"\n",
    "excluded_files = [\"README.md\",\"03-01-06-01-01-02-20.wav\", \"03-01-08-01-02-02-01.wav\", \"03-01-03-01-02-01-20.wav\"]\n",
    "\n",
    "x,y = load_data(ravdess_folder, emotions=emotions, excluded_files=excluded_files)\n",
    "x_train, x_test, y_train, y_test = train_test_split(x, y, shuffle=True, test_size=0.25, random_state=42)"
   ]
  },
  {
   "cell_type": "markdown",
   "id": "289677cc",
   "metadata": {},
   "source": [
    "## Preprocessing"
   ]
  },
  {
   "cell_type": "markdown",
   "id": "a1e7f731",
   "metadata": {},
   "source": [
    "### MFCC"
   ]
  },
  {
   "cell_type": "markdown",
   "id": "42a860e7-245b-4c09-b610-634dfa5a501e",
   "metadata": {
    "id": "42a860e7-245b-4c09-b610-634dfa5a501e"
   },
   "source": [
    "## Benchmark of models"
   ]
  },
  {
   "cell_type": "markdown",
   "id": "404bcd58-d01b-4c25-95fa-f9526e72bc10",
   "metadata": {
    "id": "404bcd58-d01b-4c25-95fa-f9526e72bc10"
   },
   "source": [
    "### 1 - Support Vector Machine (SVM)"
   ]
  },
  {
   "cell_type": "code",
   "execution_count": 6,
   "id": "aa4950d8",
   "metadata": {},
   "outputs": [
    {
     "name": "stdout",
     "output_type": "stream",
     "text": [
      "{'C': 100, 'gamma': 0.0001, 'kernel': 'rbf'}\n"
     ]
    }
   ],
   "source": [
    "from sklearn import svm\n",
    "from sklearn.model_selection import GridSearchCV, RandomizedSearchCV\n",
    "\n",
    "param_grid = {\n",
    "    'C': [0.1, 1, 10, 100, 1000],  \n",
    "    'gamma': [1, 0.1, 0.01, 0.001, 0.0001], \n",
    "    'kernel': ['rbf','linear']\n",
    "}\n",
    "\n",
    "grid_svm = GridSearchCV(svm.SVC(), param_grid, refit = True, verbose=3)\n",
    "grid_svm.fit(x_train, y_train) \n",
    "\n",
    "print(grid_svm.best_params_)"
   ]
  },
  {
   "cell_type": "code",
   "execution_count": 18,
   "id": "0dCZdrdQYi_o",
   "metadata": {
    "id": "0dCZdrdQYi_o"
   },
   "outputs": [
    {
     "name": "stdout",
     "output_type": "stream",
     "text": [
      "Accuracy :  62.06 %\n"
     ]
    }
   ],
   "source": [
    "# Select best hyper-parameters for SVM model\n",
    "# C=100, gamma=0.0001, kernel=rbf \n",
    "C_opti, gamma_opti, kernel_opti = grid_svm.best_params_['C'], grid_svm.best_params_['gamma'], grid_svm.best_params_['kernel']\n",
    "\n",
    "svc = svm.SVC(C=C_opti, gamma=gamma_opti, kernel=kernel_opti)\n",
    "svc.fit(x_train, y_train)\n",
    "\n",
    "y_pred = svc.predict(x_test)\n",
    "\n",
    "accuracy = round(accuracy_score(y_true=y_test,y_pred=y_pred)*100,2)\n",
    "print(\"Accuracy : \", accuracy,\"%\")"
   ]
  },
  {
   "cell_type": "markdown",
   "id": "02c7fb2e",
   "metadata": {},
   "source": [
    "### 2 - Multi-layer Perceptron Classifer (MLPC)"
   ]
  },
  {
   "cell_type": "code",
   "execution_count": 40,
   "id": "48fa66dd",
   "metadata": {},
   "outputs": [
    {
     "name": "stdout",
     "output_type": "stream",
     "text": [
      "Fitting 3 folds for each of 48 candidates, totalling 144 fits\n"
     ]
    },
    {
     "name": "stderr",
     "output_type": "stream",
     "text": [
      "/usr/lib/python3/dist-packages/scipy/__init__.py:146: UserWarning: A NumPy version >=1.17.3 and <1.25.0 is required for this version of SciPy (detected version 1.26.2\n",
      "  warnings.warn(f\"A NumPy version >={np_minversion} and <{np_maxversion}\"\n",
      "/usr/lib/python3/dist-packages/scipy/__init__.py:146: UserWarning: A NumPy version >=1.17.3 and <1.25.0 is required for this version of SciPy (detected version 1.26.2\n",
      "  warnings.warn(f\"A NumPy version >={np_minversion} and <{np_maxversion}\"\n",
      "/usr/lib/python3/dist-packages/scipy/__init__.py:146: UserWarning: A NumPy version >=1.17.3 and <1.25.0 is required for this version of SciPy (detected version 1.26.2\n",
      "  warnings.warn(f\"A NumPy version >={np_minversion} and <{np_maxversion}\"\n",
      "/usr/lib/python3/dist-packages/scipy/__init__.py:146: UserWarning: A NumPy version >=1.17.3 and <1.25.0 is required for this version of SciPy (detected version 1.26.2\n",
      "  warnings.warn(f\"A NumPy version >={np_minversion} and <{np_maxversion}\"\n",
      "/usr/lib/python3/dist-packages/scipy/__init__.py:146: UserWarning: A NumPy version >=1.17.3 and <1.25.0 is required for this version of SciPy (detected version 1.26.2\n",
      "  warnings.warn(f\"A NumPy version >={np_minversion} and <{np_maxversion}\"\n",
      "/usr/lib/python3/dist-packages/scipy/__init__.py:146: UserWarning: A NumPy version >=1.17.3 and <1.25.0 is required for this version of SciPy (detected version 1.26.2\n",
      "  warnings.warn(f\"A NumPy version >={np_minversion} and <{np_maxversion}\"\n",
      "/usr/lib/python3/dist-packages/scipy/__init__.py:146: UserWarning: A NumPy version >=1.17.3 and <1.25.0 is required for this version of SciPy (detected version 1.26.2\n",
      "  warnings.warn(f\"A NumPy version >={np_minversion} and <{np_maxversion}\"\n",
      "/usr/lib/python3/dist-packages/scipy/__init__.py:146: UserWarning: A NumPy version >=1.17.3 and <1.25.0 is required for this version of SciPy (detected version 1.26.2\n",
      "  warnings.warn(f\"A NumPy version >={np_minversion} and <{np_maxversion}\"\n"
     ]
    },
    {
     "name": "stdout",
     "output_type": "stream",
     "text": [
      "[CV 2/3] END activation=tanh, alpha=0.0001, hidden_layer_sizes=(50, 50, 50), learning_rate=constant, solver=sgd;, score=0.155 total time=   0.4s\n",
      "[CV 3/3] END activation=tanh, alpha=0.0001, hidden_layer_sizes=(50, 50, 50), learning_rate=constant, solver=sgd;, score=0.152 total time=   0.3s\n",
      "[CV 1/3] END activation=tanh, alpha=0.0001, hidden_layer_sizes=(50, 50, 50), learning_rate=constant, solver=sgd;, score=0.190 total time=   0.9s\n",
      "[CV 1/3] END activation=tanh, alpha=0.0001, hidden_layer_sizes=(50, 50, 50), learning_rate=adaptive, solver=sgd;, score=0.129 total time=   1.3s\n",
      "[CV 2/3] END activation=tanh, alpha=0.0001, hidden_layer_sizes=(50, 50, 50), learning_rate=adaptive, solver=sgd;, score=0.165 total time=   1.4s\n",
      "[CV 2/3] END activation=tanh, alpha=0.0001, hidden_layer_sizes=(50, 50, 50), learning_rate=constant, solver=adam;, score=0.416 total time=   1.5s\n"
     ]
    },
    {
     "name": "stderr",
     "output_type": "stream",
     "text": [
      "/usr/local/lib/python3.10/dist-packages/sklearn/neural_network/_multilayer_perceptron.py:702: ConvergenceWarning: Stochastic Optimizer: Maximum iterations (100) reached and the optimization hasn't converged yet.\n",
      "  warnings.warn(\n",
      "/usr/local/lib/python3.10/dist-packages/sklearn/neural_network/_multilayer_perceptron.py:702: ConvergenceWarning: Stochastic Optimizer: Maximum iterations (100) reached and the optimization hasn't converged yet.\n",
      "  warnings.warn(\n",
      "/usr/local/lib/python3.10/dist-packages/sklearn/neural_network/_multilayer_perceptron.py:702: ConvergenceWarning: Stochastic Optimizer: Maximum iterations (100) reached and the optimization hasn't converged yet.\n",
      "  warnings.warn(\n"
     ]
    },
    {
     "name": "stdout",
     "output_type": "stream",
     "text": [
      "[CV 1/3] END activation=tanh, alpha=0.0001, hidden_layer_sizes=(50, 50, 50), learning_rate=constant, solver=adam;, score=0.426 total time=   1.7s\n",
      "[CV 3/3] END activation=tanh, alpha=0.0001, hidden_layer_sizes=(50, 50, 50), learning_rate=adaptive, solver=sgd;, score=0.158 total time=   1.5s\n",
      "[CV 3/3] END activation=tanh, alpha=0.0001, hidden_layer_sizes=(50, 50, 50), learning_rate=constant, solver=adam;, score=0.429 total time=   1.8s\n",
      "[CV 2/3] END activation=tanh, alpha=0.0001, hidden_layer_sizes=(50, 100, 50), learning_rate=constant, solver=sgd;, score=0.165 total time=   0.5s\n"
     ]
    },
    {
     "name": "stderr",
     "output_type": "stream",
     "text": [
      "/usr/local/lib/python3.10/dist-packages/sklearn/neural_network/_multilayer_perceptron.py:702: ConvergenceWarning: Stochastic Optimizer: Maximum iterations (100) reached and the optimization hasn't converged yet.\n",
      "  warnings.warn(\n",
      "/usr/local/lib/python3.10/dist-packages/sklearn/neural_network/_multilayer_perceptron.py:702: ConvergenceWarning: Stochastic Optimizer: Maximum iterations (100) reached and the optimization hasn't converged yet.\n",
      "  warnings.warn(\n"
     ]
    },
    {
     "name": "stdout",
     "output_type": "stream",
     "text": [
      "[CV 1/3] END activation=tanh, alpha=0.0001, hidden_layer_sizes=(50, 50, 50), learning_rate=adaptive, solver=adam;, score=0.429 total time=   1.8s\n",
      "[CV 1/3] END activation=tanh, alpha=0.0001, hidden_layer_sizes=(50, 100, 50), learning_rate=constant, solver=sgd;, score=0.168 total time=   0.7s\n",
      "[CV 3/3] END activation=tanh, alpha=0.0001, hidden_layer_sizes=(50, 100, 50), learning_rate=constant, solver=sgd;, score=0.152 total time=   0.6s\n"
     ]
    },
    {
     "name": "stderr",
     "output_type": "stream",
     "text": [
      "/usr/local/lib/python3.10/dist-packages/sklearn/neural_network/_multilayer_perceptron.py:702: ConvergenceWarning: Stochastic Optimizer: Maximum iterations (100) reached and the optimization hasn't converged yet.\n",
      "  warnings.warn(\n"
     ]
    },
    {
     "name": "stdout",
     "output_type": "stream",
     "text": [
      "[CV 2/3] END activation=tanh, alpha=0.0001, hidden_layer_sizes=(50, 50, 50), learning_rate=adaptive, solver=adam;, score=0.397 total time=   1.7s\n"
     ]
    },
    {
     "name": "stderr",
     "output_type": "stream",
     "text": [
      "/usr/local/lib/python3.10/dist-packages/sklearn/neural_network/_multilayer_perceptron.py:702: ConvergenceWarning: Stochastic Optimizer: Maximum iterations (100) reached and the optimization hasn't converged yet.\n",
      "  warnings.warn(\n"
     ]
    },
    {
     "name": "stdout",
     "output_type": "stream",
     "text": [
      "[CV 3/3] END activation=tanh, alpha=0.0001, hidden_layer_sizes=(50, 50, 50), learning_rate=adaptive, solver=adam;, score=0.406 total time=   1.5s\n",
      "[CV 3/3] END activation=tanh, alpha=0.0001, hidden_layer_sizes=(50, 100, 50), learning_rate=adaptive, solver=sgd;, score=0.190 total time=   1.3s\n",
      "[CV 2/3] END activation=tanh, alpha=0.0001, hidden_layer_sizes=(50, 100, 50), learning_rate=adaptive, solver=sgd;, score=0.165 total time=   1.4s\n",
      "[CV 2/3] END activation=tanh, alpha=0.0001, hidden_layer_sizes=(50, 100, 50), learning_rate=constant, solver=adam;, score=0.432 total time=   1.8s\n",
      "[CV 1/3] END activation=tanh, alpha=0.0001, hidden_layer_sizes=(50, 100, 50), learning_rate=constant, solver=adam;, score=0.423 total time=   1.9s\n",
      "[CV 1/3] END activation=tanh, alpha=0.0001, hidden_layer_sizes=(50, 100, 50), learning_rate=adaptive, solver=sgd;, score=0.168 total time=   1.6s\n"
     ]
    },
    {
     "name": "stderr",
     "output_type": "stream",
     "text": [
      "/usr/local/lib/python3.10/dist-packages/sklearn/neural_network/_multilayer_perceptron.py:702: ConvergenceWarning: Stochastic Optimizer: Maximum iterations (100) reached and the optimization hasn't converged yet.\n",
      "  warnings.warn(\n",
      "/usr/local/lib/python3.10/dist-packages/sklearn/neural_network/_multilayer_perceptron.py:702: ConvergenceWarning: Stochastic Optimizer: Maximum iterations (100) reached and the optimization hasn't converged yet.\n",
      "  warnings.warn(\n"
     ]
    },
    {
     "name": "stdout",
     "output_type": "stream",
     "text": [
      "[CV 2/3] END activation=tanh, alpha=0.0001, hidden_layer_sizes=(100,), learning_rate=constant, solver=sgd;, score=0.165 total time=   0.3s\n"
     ]
    },
    {
     "name": "stderr",
     "output_type": "stream",
     "text": [
      "/usr/local/lib/python3.10/dist-packages/sklearn/neural_network/_multilayer_perceptron.py:702: ConvergenceWarning: Stochastic Optimizer: Maximum iterations (100) reached and the optimization hasn't converged yet.\n",
      "  warnings.warn(\n"
     ]
    },
    {
     "name": "stdout",
     "output_type": "stream",
     "text": [
      "[CV 3/3] END activation=tanh, alpha=0.0001, hidden_layer_sizes=(50, 100, 50), learning_rate=constant, solver=adam;, score=0.429 total time=   2.2s\n",
      "[CV 1/3] END activation=tanh, alpha=0.0001, hidden_layer_sizes=(100,), learning_rate=constant, solver=sgd;, score=0.152 total time=   0.5s\n",
      "[CV 3/3] END activation=tanh, alpha=0.0001, hidden_layer_sizes=(100,), learning_rate=constant, solver=sgd;, score=0.184 total time=   0.7s\n"
     ]
    },
    {
     "name": "stderr",
     "output_type": "stream",
     "text": [
      "/usr/local/lib/python3.10/dist-packages/sklearn/neural_network/_multilayer_perceptron.py:702: ConvergenceWarning: Stochastic Optimizer: Maximum iterations (100) reached and the optimization hasn't converged yet.\n",
      "  warnings.warn(\n",
      "/usr/local/lib/python3.10/dist-packages/sklearn/neural_network/_multilayer_perceptron.py:702: ConvergenceWarning: Stochastic Optimizer: Maximum iterations (100) reached and the optimization hasn't converged yet.\n",
      "  warnings.warn(\n"
     ]
    },
    {
     "name": "stdout",
     "output_type": "stream",
     "text": [
      "[CV 2/3] END activation=tanh, alpha=0.0001, hidden_layer_sizes=(50, 100, 50), learning_rate=adaptive, solver=adam;, score=0.442 total time=   1.9s\n",
      "[CV 1/3] END activation=tanh, alpha=0.0001, hidden_layer_sizes=(50, 100, 50), learning_rate=adaptive, solver=adam;, score=0.445 total time=   2.4s\n"
     ]
    },
    {
     "name": "stderr",
     "output_type": "stream",
     "text": [
      "/usr/local/lib/python3.10/dist-packages/sklearn/neural_network/_multilayer_perceptron.py:702: ConvergenceWarning: Stochastic Optimizer: Maximum iterations (100) reached and the optimization hasn't converged yet.\n",
      "  warnings.warn(\n",
      "/usr/local/lib/python3.10/dist-packages/sklearn/neural_network/_multilayer_perceptron.py:702: ConvergenceWarning: Stochastic Optimizer: Maximum iterations (100) reached and the optimization hasn't converged yet.\n",
      "  warnings.warn(\n"
     ]
    },
    {
     "name": "stdout",
     "output_type": "stream",
     "text": [
      "[CV 1/3] END activation=tanh, alpha=0.0001, hidden_layer_sizes=(100,), learning_rate=constant, solver=adam;, score=0.400 total time=   1.4s\n",
      "[CV 2/3] END activation=tanh, alpha=0.0001, hidden_layer_sizes=(100,), learning_rate=constant, solver=adam;, score=0.426 total time=   1.3s\n"
     ]
    },
    {
     "name": "stderr",
     "output_type": "stream",
     "text": [
      "/usr/local/lib/python3.10/dist-packages/sklearn/neural_network/_multilayer_perceptron.py:702: ConvergenceWarning: Stochastic Optimizer: Maximum iterations (100) reached and the optimization hasn't converged yet.\n",
      "  warnings.warn(\n",
      "/usr/local/lib/python3.10/dist-packages/sklearn/neural_network/_multilayer_perceptron.py:702: ConvergenceWarning: Stochastic Optimizer: Maximum iterations (100) reached and the optimization hasn't converged yet.\n",
      "  warnings.warn(\n",
      "/usr/local/lib/python3.10/dist-packages/sklearn/neural_network/_multilayer_perceptron.py:702: ConvergenceWarning: Stochastic Optimizer: Maximum iterations (100) reached and the optimization hasn't converged yet.\n",
      "  warnings.warn(\n"
     ]
    },
    {
     "name": "stdout",
     "output_type": "stream",
     "text": [
      "[CV 1/3] END activation=tanh, alpha=0.0001, hidden_layer_sizes=(100,), learning_rate=adaptive, solver=sgd;, score=0.226 total time=   1.5s\n",
      "[CV 3/3] END activation=tanh, alpha=0.0001, hidden_layer_sizes=(100,), learning_rate=constant, solver=adam;, score=0.468 total time=   1.5s\n",
      "[CV 2/3] END activation=tanh, alpha=0.0001, hidden_layer_sizes=(100,), learning_rate=adaptive, solver=sgd;, score=0.206 total time=   1.3s\n",
      "[CV 3/3] END activation=tanh, alpha=0.0001, hidden_layer_sizes=(50, 100, 50), learning_rate=adaptive, solver=adam;, score=0.432 total time=   2.2s\n",
      "[CV 1/3] END activation=tanh, alpha=0.05, hidden_layer_sizes=(50, 50, 50), learning_rate=constant, solver=sgd;, score=0.168 total time=   0.3s\n",
      "[CV 3/3] END activation=tanh, alpha=0.05, hidden_layer_sizes=(50, 50, 50), learning_rate=constant, solver=sgd;, score=0.165 total time=   0.4s\n",
      "[CV 3/3] END activation=tanh, alpha=0.0001, hidden_layer_sizes=(100,), learning_rate=adaptive, solver=sgd;, score=0.194 total time=   1.3s\n"
     ]
    },
    {
     "name": "stderr",
     "output_type": "stream",
     "text": [
      "/usr/local/lib/python3.10/dist-packages/sklearn/neural_network/_multilayer_perceptron.py:702: ConvergenceWarning: Stochastic Optimizer: Maximum iterations (100) reached and the optimization hasn't converged yet.\n",
      "  warnings.warn(\n"
     ]
    },
    {
     "name": "stdout",
     "output_type": "stream",
     "text": [
      "[CV 2/3] END activation=tanh, alpha=0.05, hidden_layer_sizes=(50, 50, 50), learning_rate=constant, solver=sgd;, score=0.155 total time=   0.6s\n"
     ]
    },
    {
     "name": "stderr",
     "output_type": "stream",
     "text": [
      "/usr/local/lib/python3.10/dist-packages/sklearn/neural_network/_multilayer_perceptron.py:702: ConvergenceWarning: Stochastic Optimizer: Maximum iterations (100) reached and the optimization hasn't converged yet.\n",
      "  warnings.warn(\n",
      "/usr/local/lib/python3.10/dist-packages/sklearn/neural_network/_multilayer_perceptron.py:702: ConvergenceWarning: Stochastic Optimizer: Maximum iterations (100) reached and the optimization hasn't converged yet.\n",
      "  warnings.warn(\n",
      "/usr/local/lib/python3.10/dist-packages/sklearn/neural_network/_multilayer_perceptron.py:702: ConvergenceWarning: Stochastic Optimizer: Maximum iterations (100) reached and the optimization hasn't converged yet.\n",
      "  warnings.warn(\n"
     ]
    },
    {
     "name": "stdout",
     "output_type": "stream",
     "text": [
      "[CV 2/3] END activation=tanh, alpha=0.0001, hidden_layer_sizes=(100,), learning_rate=adaptive, solver=adam;, score=0.413 total time=   1.2s\n",
      "[CV 3/3] END activation=tanh, alpha=0.0001, hidden_layer_sizes=(100,), learning_rate=adaptive, solver=adam;, score=0.423 total time=   1.3s\n",
      "[CV 1/3] END activation=tanh, alpha=0.0001, hidden_layer_sizes=(100,), learning_rate=adaptive, solver=adam;, score=0.419 total time=   1.6s\n",
      "[CV 2/3] END activation=tanh, alpha=0.05, hidden_layer_sizes=(50, 50, 50), learning_rate=adaptive, solver=sgd;, score=0.165 total time=   1.2s\n",
      "[CV 1/3] END activation=tanh, alpha=0.05, hidden_layer_sizes=(50, 50, 50), learning_rate=adaptive, solver=sgd;, score=0.165 total time=   1.4s\n",
      "[CV 3/3] END activation=tanh, alpha=0.05, hidden_layer_sizes=(50, 50, 50), learning_rate=adaptive, solver=sgd;, score=0.158 total time=   1.1s\n"
     ]
    },
    {
     "name": "stderr",
     "output_type": "stream",
     "text": [
      "/usr/local/lib/python3.10/dist-packages/sklearn/neural_network/_multilayer_perceptron.py:702: ConvergenceWarning: Stochastic Optimizer: Maximum iterations (100) reached and the optimization hasn't converged yet.\n",
      "  warnings.warn(\n",
      "/usr/local/lib/python3.10/dist-packages/sklearn/neural_network/_multilayer_perceptron.py:702: ConvergenceWarning: Stochastic Optimizer: Maximum iterations (100) reached and the optimization hasn't converged yet.\n",
      "  warnings.warn(\n",
      "/usr/local/lib/python3.10/dist-packages/sklearn/neural_network/_multilayer_perceptron.py:702: ConvergenceWarning: Stochastic Optimizer: Maximum iterations (100) reached and the optimization hasn't converged yet.\n",
      "  warnings.warn(\n"
     ]
    },
    {
     "name": "stdout",
     "output_type": "stream",
     "text": [
      "[CV 1/3] END activation=tanh, alpha=0.05, hidden_layer_sizes=(50, 50, 50), learning_rate=constant, solver=adam;, score=0.439 total time=   1.8s\n",
      "[CV 3/3] END activation=tanh, alpha=0.05, hidden_layer_sizes=(50, 50, 50), learning_rate=constant, solver=adam;, score=0.413 total time=   1.6s\n",
      "[CV 2/3] END activation=tanh, alpha=0.05, hidden_layer_sizes=(50, 50, 50), learning_rate=constant, solver=adam;, score=0.400 total time=   1.7s\n"
     ]
    },
    {
     "name": "stderr",
     "output_type": "stream",
     "text": [
      "/usr/local/lib/python3.10/dist-packages/sklearn/neural_network/_multilayer_perceptron.py:702: ConvergenceWarning: Stochastic Optimizer: Maximum iterations (100) reached and the optimization hasn't converged yet.\n",
      "  warnings.warn(\n"
     ]
    },
    {
     "name": "stdout",
     "output_type": "stream",
     "text": [
      "[CV 1/3] END activation=tanh, alpha=0.05, hidden_layer_sizes=(50, 50, 50), learning_rate=adaptive, solver=adam;, score=0.368 total time=   1.4s\n",
      "[CV 2/3] END activation=tanh, alpha=0.05, hidden_layer_sizes=(50, 100, 50), learning_rate=constant, solver=sgd;, score=0.171 total time=   0.5s\n",
      "[CV 3/3] END activation=tanh, alpha=0.05, hidden_layer_sizes=(50, 100, 50), learning_rate=constant, solver=sgd;, score=0.177 total time=   0.6s\n",
      "[CV 1/3] END activation=tanh, alpha=0.05, hidden_layer_sizes=(50, 100, 50), learning_rate=constant, solver=sgd;, score=0.155 total time=   0.8s\n",
      "[CV 2/3] END activation=tanh, alpha=0.05, hidden_layer_sizes=(50, 50, 50), learning_rate=adaptive, solver=adam;, score=0.426 total time=   1.7s\n"
     ]
    },
    {
     "name": "stderr",
     "output_type": "stream",
     "text": [
      "/usr/local/lib/python3.10/dist-packages/sklearn/neural_network/_multilayer_perceptron.py:702: ConvergenceWarning: Stochastic Optimizer: Maximum iterations (100) reached and the optimization hasn't converged yet.\n",
      "  warnings.warn(\n",
      "/usr/local/lib/python3.10/dist-packages/sklearn/neural_network/_multilayer_perceptron.py:702: ConvergenceWarning: Stochastic Optimizer: Maximum iterations (100) reached and the optimization hasn't converged yet.\n",
      "  warnings.warn(\n"
     ]
    },
    {
     "name": "stdout",
     "output_type": "stream",
     "text": [
      "[CV 3/3] END activation=tanh, alpha=0.05, hidden_layer_sizes=(50, 50, 50), learning_rate=adaptive, solver=adam;, score=0.442 total time=   1.7s\n",
      "[CV 1/3] END activation=tanh, alpha=0.05, hidden_layer_sizes=(50, 100, 50), learning_rate=adaptive, solver=sgd;, score=0.152 total time=   1.5s\n"
     ]
    },
    {
     "name": "stderr",
     "output_type": "stream",
     "text": [
      "/usr/local/lib/python3.10/dist-packages/sklearn/neural_network/_multilayer_perceptron.py:702: ConvergenceWarning: Stochastic Optimizer: Maximum iterations (100) reached and the optimization hasn't converged yet.\n",
      "  warnings.warn(\n"
     ]
    },
    {
     "name": "stdout",
     "output_type": "stream",
     "text": [
      "[CV 3/3] END activation=tanh, alpha=0.05, hidden_layer_sizes=(50, 100, 50), learning_rate=constant, solver=adam;, score=0.477 total time=   1.8s\n"
     ]
    },
    {
     "name": "stderr",
     "output_type": "stream",
     "text": [
      "/usr/local/lib/python3.10/dist-packages/sklearn/neural_network/_multilayer_perceptron.py:702: ConvergenceWarning: Stochastic Optimizer: Maximum iterations (100) reached and the optimization hasn't converged yet.\n",
      "  warnings.warn(\n",
      "/usr/local/lib/python3.10/dist-packages/sklearn/neural_network/_multilayer_perceptron.py:702: ConvergenceWarning: Stochastic Optimizer: Maximum iterations (100) reached and the optimization hasn't converged yet.\n",
      "  warnings.warn(\n"
     ]
    },
    {
     "name": "stdout",
     "output_type": "stream",
     "text": [
      "[CV 2/3] END activation=tanh, alpha=0.05, hidden_layer_sizes=(50, 100, 50), learning_rate=constant, solver=adam;, score=0.377 total time=   2.3s\n",
      "[CV 1/3] END activation=tanh, alpha=0.05, hidden_layer_sizes=(50, 100, 50), learning_rate=constant, solver=adam;, score=0.403 total time=   2.3s\n",
      "[CV 1/3] END activation=tanh, alpha=0.05, hidden_layer_sizes=(100,), learning_rate=constant, solver=sgd;, score=0.184 total time=   0.3s\n",
      "[CV 3/3] END activation=tanh, alpha=0.05, hidden_layer_sizes=(50, 100, 50), learning_rate=adaptive, solver=sgd;, score=0.181 total time=   1.8s\n",
      "[CV 2/3] END activation=tanh, alpha=0.05, hidden_layer_sizes=(50, 100, 50), learning_rate=adaptive, solver=sgd;, score=0.165 total time=   2.0s\n"
     ]
    },
    {
     "name": "stderr",
     "output_type": "stream",
     "text": [
      "/usr/local/lib/python3.10/dist-packages/sklearn/neural_network/_multilayer_perceptron.py:702: ConvergenceWarning: Stochastic Optimizer: Maximum iterations (100) reached and the optimization hasn't converged yet.\n",
      "  warnings.warn(\n"
     ]
    },
    {
     "name": "stdout",
     "output_type": "stream",
     "text": [
      "[CV 1/3] END activation=tanh, alpha=0.05, hidden_layer_sizes=(50, 100, 50), learning_rate=adaptive, solver=adam;, score=0.410 total time=   2.2s\n",
      "[CV 2/3] END activation=tanh, alpha=0.05, hidden_layer_sizes=(100,), learning_rate=constant, solver=sgd;, score=0.158 total time=   0.5s\n",
      "[CV 3/3] END activation=tanh, alpha=0.05, hidden_layer_sizes=(100,), learning_rate=constant, solver=sgd;, score=0.155 total time=   0.6s\n"
     ]
    },
    {
     "name": "stderr",
     "output_type": "stream",
     "text": [
      "/usr/local/lib/python3.10/dist-packages/sklearn/neural_network/_multilayer_perceptron.py:702: ConvergenceWarning: Stochastic Optimizer: Maximum iterations (100) reached and the optimization hasn't converged yet.\n",
      "  warnings.warn(\n"
     ]
    },
    {
     "name": "stdout",
     "output_type": "stream",
     "text": [
      "[CV 2/3] END activation=tanh, alpha=0.05, hidden_layer_sizes=(50, 100, 50), learning_rate=adaptive, solver=adam;, score=0.429 total time=   2.0s\n"
     ]
    },
    {
     "name": "stderr",
     "output_type": "stream",
     "text": [
      "/usr/local/lib/python3.10/dist-packages/sklearn/neural_network/_multilayer_perceptron.py:702: ConvergenceWarning: Stochastic Optimizer: Maximum iterations (100) reached and the optimization hasn't converged yet.\n",
      "  warnings.warn(\n"
     ]
    },
    {
     "name": "stdout",
     "output_type": "stream",
     "text": [
      "[CV 1/3] END activation=tanh, alpha=0.05, hidden_layer_sizes=(100,), learning_rate=constant, solver=adam;, score=0.455 total time=   1.3s\n"
     ]
    },
    {
     "name": "stderr",
     "output_type": "stream",
     "text": [
      "/usr/local/lib/python3.10/dist-packages/sklearn/neural_network/_multilayer_perceptron.py:702: ConvergenceWarning: Stochastic Optimizer: Maximum iterations (100) reached and the optimization hasn't converged yet.\n",
      "  warnings.warn(\n"
     ]
    },
    {
     "name": "stdout",
     "output_type": "stream",
     "text": [
      "[CV 3/3] END activation=tanh, alpha=0.05, hidden_layer_sizes=(50, 100, 50), learning_rate=adaptive, solver=adam;, score=0.445 total time=   2.1s\n"
     ]
    },
    {
     "name": "stderr",
     "output_type": "stream",
     "text": [
      "/usr/local/lib/python3.10/dist-packages/sklearn/neural_network/_multilayer_perceptron.py:702: ConvergenceWarning: Stochastic Optimizer: Maximum iterations (100) reached and the optimization hasn't converged yet.\n",
      "  warnings.warn(\n",
      "/usr/local/lib/python3.10/dist-packages/sklearn/neural_network/_multilayer_perceptron.py:702: ConvergenceWarning: Stochastic Optimizer: Maximum iterations (100) reached and the optimization hasn't converged yet.\n",
      "  warnings.warn(\n",
      "/usr/local/lib/python3.10/dist-packages/sklearn/neural_network/_multilayer_perceptron.py:702: ConvergenceWarning: Stochastic Optimizer: Maximum iterations (100) reached and the optimization hasn't converged yet.\n",
      "  warnings.warn(\n"
     ]
    },
    {
     "name": "stdout",
     "output_type": "stream",
     "text": [
      "[CV 2/3] END activation=tanh, alpha=0.05, hidden_layer_sizes=(100,), learning_rate=constant, solver=adam;, score=0.429 total time=   1.7s\n",
      "[CV 2/3] END activation=tanh, alpha=0.05, hidden_layer_sizes=(100,), learning_rate=adaptive, solver=sgd;, score=0.158 total time=   1.3s\n",
      "[CV 3/3] END activation=tanh, alpha=0.05, hidden_layer_sizes=(100,), learning_rate=adaptive, solver=sgd;, score=0.181 total time=   1.4s\n",
      "[CV 3/3] END activation=tanh, alpha=0.05, hidden_layer_sizes=(100,), learning_rate=constant, solver=adam;, score=0.471 total time=   1.7s\n"
     ]
    },
    {
     "name": "stderr",
     "output_type": "stream",
     "text": [
      "/usr/local/lib/python3.10/dist-packages/sklearn/neural_network/_multilayer_perceptron.py:702: ConvergenceWarning: Stochastic Optimizer: Maximum iterations (100) reached and the optimization hasn't converged yet.\n",
      "  warnings.warn(\n",
      "/usr/local/lib/python3.10/dist-packages/sklearn/neural_network/_multilayer_perceptron.py:702: ConvergenceWarning: Stochastic Optimizer: Maximum iterations (100) reached and the optimization hasn't converged yet.\n",
      "  warnings.warn(\n"
     ]
    },
    {
     "name": "stdout",
     "output_type": "stream",
     "text": [
      "[CV 1/3] END activation=tanh, alpha=0.05, hidden_layer_sizes=(100,), learning_rate=adaptive, solver=sgd;, score=0.248 total time=   1.7s\n",
      "[CV 3/3] END activation=relu, alpha=0.0001, hidden_layer_sizes=(50, 50, 50), learning_rate=constant, solver=sgd;, score=0.161 total time=   0.4s\n",
      "[CV 1/3] END activation=tanh, alpha=0.05, hidden_layer_sizes=(100,), learning_rate=adaptive, solver=adam;, score=0.384 total time=   1.4s\n"
     ]
    },
    {
     "name": "stderr",
     "output_type": "stream",
     "text": [
      "/usr/local/lib/python3.10/dist-packages/sklearn/neural_network/_multilayer_perceptron.py:702: ConvergenceWarning: Stochastic Optimizer: Maximum iterations (100) reached and the optimization hasn't converged yet.\n",
      "  warnings.warn(\n"
     ]
    },
    {
     "name": "stdout",
     "output_type": "stream",
     "text": [
      "[CV 2/3] END activation=tanh, alpha=0.05, hidden_layer_sizes=(100,), learning_rate=adaptive, solver=adam;, score=0.410 total time=   1.3s\n",
      "[CV 2/3] END activation=relu, alpha=0.0001, hidden_layer_sizes=(50, 50, 50), learning_rate=constant, solver=adam;, score=0.316 total time=   0.6s\n",
      "[CV 2/3] END activation=relu, alpha=0.0001, hidden_layer_sizes=(50, 50, 50), learning_rate=constant, solver=sgd;, score=0.161 total time=   1.2s\n"
     ]
    },
    {
     "name": "stderr",
     "output_type": "stream",
     "text": [
      "/usr/local/lib/python3.10/dist-packages/sklearn/neural_network/_multilayer_perceptron.py:702: ConvergenceWarning: Stochastic Optimizer: Maximum iterations (100) reached and the optimization hasn't converged yet.\n",
      "  warnings.warn(\n",
      "/usr/local/lib/python3.10/dist-packages/sklearn/neural_network/_multilayer_perceptron.py:702: ConvergenceWarning: Stochastic Optimizer: Maximum iterations (100) reached and the optimization hasn't converged yet.\n",
      "  warnings.warn(\n",
      "/usr/local/lib/python3.10/dist-packages/sklearn/neural_network/_multilayer_perceptron.py:702: ConvergenceWarning: Stochastic Optimizer: Maximum iterations (100) reached and the optimization hasn't converged yet.\n",
      "  warnings.warn(\n"
     ]
    },
    {
     "name": "stdout",
     "output_type": "stream",
     "text": [
      "[CV 3/3] END activation=tanh, alpha=0.05, hidden_layer_sizes=(100,), learning_rate=adaptive, solver=adam;, score=0.523 total time=   1.5s\n",
      "[CV 1/3] END activation=relu, alpha=0.0001, hidden_layer_sizes=(50, 50, 50), learning_rate=constant, solver=sgd;, score=0.165 total time=   1.3s\n"
     ]
    },
    {
     "name": "stderr",
     "output_type": "stream",
     "text": [
      "/usr/local/lib/python3.10/dist-packages/sklearn/neural_network/_multilayer_perceptron.py:702: ConvergenceWarning: Stochastic Optimizer: Maximum iterations (100) reached and the optimization hasn't converged yet.\n",
      "  warnings.warn(\n",
      "/usr/local/lib/python3.10/dist-packages/sklearn/neural_network/_multilayer_perceptron.py:702: ConvergenceWarning: Stochastic Optimizer: Maximum iterations (100) reached and the optimization hasn't converged yet.\n",
      "  warnings.warn(\n"
     ]
    },
    {
     "name": "stdout",
     "output_type": "stream",
     "text": [
      "[CV 1/3] END activation=relu, alpha=0.0001, hidden_layer_sizes=(50, 50, 50), learning_rate=constant, solver=adam;, score=0.426 total time=   1.4s\n",
      "[CV 3/3] END activation=relu, alpha=0.0001, hidden_layer_sizes=(50, 50, 50), learning_rate=constant, solver=adam;, score=0.345 total time=   1.1s\n",
      "[CV 1/3] END activation=relu, alpha=0.0001, hidden_layer_sizes=(50, 50, 50), learning_rate=adaptive, solver=sgd;, score=0.155 total time=   1.1s\n"
     ]
    },
    {
     "name": "stderr",
     "output_type": "stream",
     "text": [
      "/usr/local/lib/python3.10/dist-packages/sklearn/neural_network/_multilayer_perceptron.py:702: ConvergenceWarning: Stochastic Optimizer: Maximum iterations (100) reached and the optimization hasn't converged yet.\n",
      "  warnings.warn(\n"
     ]
    },
    {
     "name": "stdout",
     "output_type": "stream",
     "text": [
      "[CV 2/3] END activation=relu, alpha=0.0001, hidden_layer_sizes=(50, 50, 50), learning_rate=adaptive, solver=sgd;, score=0.187 total time=   1.0s\n",
      "[CV 3/3] END activation=relu, alpha=0.0001, hidden_layer_sizes=(50, 50, 50), learning_rate=adaptive, solver=sgd;, score=0.210 total time=   1.1s\n",
      "[CV 1/3] END activation=relu, alpha=0.0001, hidden_layer_sizes=(50, 100, 50), learning_rate=constant, solver=adam;, score=0.332 total time=   0.6s\n",
      "[CV 3/3] END activation=relu, alpha=0.0001, hidden_layer_sizes=(50, 50, 50), learning_rate=adaptive, solver=adam;, score=0.368 total time=   1.2s\n",
      "[CV 3/3] END activation=relu, alpha=0.0001, hidden_layer_sizes=(50, 100, 50), learning_rate=constant, solver=sgd;, score=0.155 total time=   0.9s\n"
     ]
    },
    {
     "name": "stderr",
     "output_type": "stream",
     "text": [
      "/usr/local/lib/python3.10/dist-packages/sklearn/neural_network/_multilayer_perceptron.py:702: ConvergenceWarning: Stochastic Optimizer: Maximum iterations (100) reached and the optimization hasn't converged yet.\n",
      "  warnings.warn(\n",
      "/usr/local/lib/python3.10/dist-packages/sklearn/neural_network/_multilayer_perceptron.py:702: ConvergenceWarning: Stochastic Optimizer: Maximum iterations (100) reached and the optimization hasn't converged yet.\n",
      "  warnings.warn(\n",
      "/usr/local/lib/python3.10/dist-packages/sklearn/neural_network/_multilayer_perceptron.py:702: ConvergenceWarning: Stochastic Optimizer: Maximum iterations (100) reached and the optimization hasn't converged yet.\n",
      "  warnings.warn(\n"
     ]
    },
    {
     "name": "stdout",
     "output_type": "stream",
     "text": [
      "[CV 2/3] END activation=relu, alpha=0.0001, hidden_layer_sizes=(50, 50, 50), learning_rate=adaptive, solver=adam;, score=0.374 total time=   1.4s\n",
      "[CV 1/3] END activation=relu, alpha=0.0001, hidden_layer_sizes=(50, 50, 50), learning_rate=adaptive, solver=adam;, score=0.406 total time=   1.6s\n",
      "[CV 1/3] END activation=relu, alpha=0.0001, hidden_layer_sizes=(50, 100, 50), learning_rate=constant, solver=sgd;, score=0.155 total time=   1.4s\n",
      "[CV 2/3] END activation=relu, alpha=0.0001, hidden_layer_sizes=(50, 100, 50), learning_rate=constant, solver=adam;, score=0.374 total time=   1.0s\n",
      "[CV 2/3] END activation=relu, alpha=0.0001, hidden_layer_sizes=(50, 100, 50), learning_rate=constant, solver=sgd;, score=0.161 total time=   1.7s\n"
     ]
    },
    {
     "name": "stderr",
     "output_type": "stream",
     "text": [
      "/usr/local/lib/python3.10/dist-packages/sklearn/neural_network/_multilayer_perceptron.py:702: ConvergenceWarning: Stochastic Optimizer: Maximum iterations (100) reached and the optimization hasn't converged yet.\n",
      "  warnings.warn(\n"
     ]
    },
    {
     "name": "stdout",
     "output_type": "stream",
     "text": [
      "[CV 3/3] END activation=relu, alpha=0.0001, hidden_layer_sizes=(50, 100, 50), learning_rate=constant, solver=adam;, score=0.358 total time=   1.2s\n",
      "[CV 1/3] END activation=relu, alpha=0.0001, hidden_layer_sizes=(100,), learning_rate=constant, solver=sgd;, score=0.155 total time=   0.4s\n",
      "[CV 2/3] END activation=relu, alpha=0.0001, hidden_layer_sizes=(100,), learning_rate=constant, solver=sgd;, score=0.142 total time=   0.2s\n"
     ]
    },
    {
     "name": "stderr",
     "output_type": "stream",
     "text": [
      "/usr/local/lib/python3.10/dist-packages/sklearn/neural_network/_multilayer_perceptron.py:702: ConvergenceWarning: Stochastic Optimizer: Maximum iterations (100) reached and the optimization hasn't converged yet.\n",
      "  warnings.warn(\n",
      "/usr/local/lib/python3.10/dist-packages/sklearn/neural_network/_multilayer_perceptron.py:702: ConvergenceWarning: Stochastic Optimizer: Maximum iterations (100) reached and the optimization hasn't converged yet.\n",
      "  warnings.warn(\n"
     ]
    },
    {
     "name": "stdout",
     "output_type": "stream",
     "text": [
      "[CV 2/3] END activation=relu, alpha=0.0001, hidden_layer_sizes=(50, 100, 50), learning_rate=adaptive, solver=sgd;, score=0.145 total time=   1.4s\n",
      "[CV 1/3] END activation=relu, alpha=0.0001, hidden_layer_sizes=(50, 100, 50), learning_rate=adaptive, solver=sgd;, score=0.210 total time=   1.5s\n",
      "[CV 2/3] END activation=relu, alpha=0.0001, hidden_layer_sizes=(50, 100, 50), learning_rate=adaptive, solver=adam;, score=0.374 total time=   1.3s\n",
      "[CV 1/3] END activation=relu, alpha=0.0001, hidden_layer_sizes=(50, 100, 50), learning_rate=adaptive, solver=adam;, score=0.374 total time=   1.5s\n",
      "[CV 3/3] END activation=relu, alpha=0.0001, hidden_layer_sizes=(50, 100, 50), learning_rate=adaptive, solver=sgd;, score=0.158 total time=   1.6s\n"
     ]
    },
    {
     "name": "stderr",
     "output_type": "stream",
     "text": [
      "/usr/local/lib/python3.10/dist-packages/sklearn/neural_network/_multilayer_perceptron.py:702: ConvergenceWarning: Stochastic Optimizer: Maximum iterations (100) reached and the optimization hasn't converged yet.\n",
      "  warnings.warn(\n",
      "/usr/local/lib/python3.10/dist-packages/sklearn/neural_network/_multilayer_perceptron.py:702: ConvergenceWarning: Stochastic Optimizer: Maximum iterations (100) reached and the optimization hasn't converged yet.\n",
      "  warnings.warn(\n"
     ]
    },
    {
     "name": "stdout",
     "output_type": "stream",
     "text": [
      "[CV 3/3] END activation=relu, alpha=0.0001, hidden_layer_sizes=(100,), learning_rate=constant, solver=sgd;, score=0.158 total time=   1.0s\n"
     ]
    },
    {
     "name": "stderr",
     "output_type": "stream",
     "text": [
      "/usr/local/lib/python3.10/dist-packages/sklearn/neural_network/_multilayer_perceptron.py:702: ConvergenceWarning: Stochastic Optimizer: Maximum iterations (100) reached and the optimization hasn't converged yet.\n",
      "  warnings.warn(\n",
      "/usr/local/lib/python3.10/dist-packages/sklearn/neural_network/_multilayer_perceptron.py:702: ConvergenceWarning: Stochastic Optimizer: Maximum iterations (100) reached and the optimization hasn't converged yet.\n",
      "  warnings.warn(\n"
     ]
    },
    {
     "name": "stdout",
     "output_type": "stream",
     "text": [
      "[CV 1/3] END activation=relu, alpha=0.0001, hidden_layer_sizes=(100,), learning_rate=constant, solver=adam;, score=0.423 total time=   1.2s\n",
      "[CV 3/3] END activation=relu, alpha=0.0001, hidden_layer_sizes=(100,), learning_rate=constant, solver=adam;, score=0.397 total time=   1.0s\n",
      "[CV 3/3] END activation=relu, alpha=0.0001, hidden_layer_sizes=(50, 100, 50), learning_rate=adaptive, solver=adam;, score=0.442 total time=   1.9s\n",
      "[CV 3/3] END activation=relu, alpha=0.0001, hidden_layer_sizes=(100,), learning_rate=adaptive, solver=sgd;, score=0.084 total time=   1.1s\n",
      "[CV 2/3] END activation=relu, alpha=0.0001, hidden_layer_sizes=(100,), learning_rate=constant, solver=adam;, score=0.429 total time=   1.6s\n",
      "[CV 1/3] END activation=relu, alpha=0.0001, hidden_layer_sizes=(100,), learning_rate=adaptive, solver=sgd;, score=0.165 total time=   1.3s\n",
      "[CV 2/3] END activation=relu, alpha=0.0001, hidden_layer_sizes=(100,), learning_rate=adaptive, solver=sgd;, score=0.165 total time=   1.3s\n"
     ]
    },
    {
     "name": "stderr",
     "output_type": "stream",
     "text": [
      "/usr/local/lib/python3.10/dist-packages/sklearn/neural_network/_multilayer_perceptron.py:702: ConvergenceWarning: Stochastic Optimizer: Maximum iterations (100) reached and the optimization hasn't converged yet.\n",
      "  warnings.warn(\n",
      "/usr/local/lib/python3.10/dist-packages/sklearn/neural_network/_multilayer_perceptron.py:702: ConvergenceWarning: Stochastic Optimizer: Maximum iterations (100) reached and the optimization hasn't converged yet.\n",
      "  warnings.warn(\n",
      "/usr/local/lib/python3.10/dist-packages/sklearn/neural_network/_multilayer_perceptron.py:702: ConvergenceWarning: Stochastic Optimizer: Maximum iterations (100) reached and the optimization hasn't converged yet.\n",
      "  warnings.warn(\n"
     ]
    },
    {
     "name": "stdout",
     "output_type": "stream",
     "text": [
      "[CV 1/3] END activation=relu, alpha=0.0001, hidden_layer_sizes=(100,), learning_rate=adaptive, solver=adam;, score=0.477 total time=   1.2s\n",
      "[CV 3/3] END activation=relu, alpha=0.0001, hidden_layer_sizes=(100,), learning_rate=adaptive, solver=adam;, score=0.439 total time=   1.1s\n"
     ]
    },
    {
     "name": "stderr",
     "output_type": "stream",
     "text": [
      "/usr/local/lib/python3.10/dist-packages/sklearn/neural_network/_multilayer_perceptron.py:702: ConvergenceWarning: Stochastic Optimizer: Maximum iterations (100) reached and the optimization hasn't converged yet.\n",
      "  warnings.warn(\n"
     ]
    },
    {
     "name": "stdout",
     "output_type": "stream",
     "text": [
      "[CV 2/3] END activation=relu, alpha=0.0001, hidden_layer_sizes=(100,), learning_rate=adaptive, solver=adam;, score=0.429 total time=   1.2s\n",
      "[CV 1/3] END activation=relu, alpha=0.05, hidden_layer_sizes=(50, 50, 50), learning_rate=constant, solver=sgd;, score=0.155 total time=   1.3s\n",
      "[CV 2/3] END activation=relu, alpha=0.05, hidden_layer_sizes=(50, 50, 50), learning_rate=constant, solver=sgd;, score=0.142 total time=   1.2s\n",
      "[CV 2/3] END activation=relu, alpha=0.05, hidden_layer_sizes=(50, 50, 50), learning_rate=constant, solver=adam;, score=0.368 total time=   1.1s\n"
     ]
    },
    {
     "name": "stderr",
     "output_type": "stream",
     "text": [
      "/usr/local/lib/python3.10/dist-packages/sklearn/neural_network/_multilayer_perceptron.py:702: ConvergenceWarning: Stochastic Optimizer: Maximum iterations (100) reached and the optimization hasn't converged yet.\n",
      "  warnings.warn(\n",
      "/usr/local/lib/python3.10/dist-packages/sklearn/neural_network/_multilayer_perceptron.py:702: ConvergenceWarning: Stochastic Optimizer: Maximum iterations (100) reached and the optimization hasn't converged yet.\n",
      "  warnings.warn(\n"
     ]
    },
    {
     "name": "stdout",
     "output_type": "stream",
     "text": [
      "[CV 3/3] END activation=relu, alpha=0.05, hidden_layer_sizes=(50, 50, 50), learning_rate=constant, solver=sgd;, score=0.161 total time=   1.4s\n",
      "[CV 1/3] END activation=relu, alpha=0.05, hidden_layer_sizes=(50, 50, 50), learning_rate=constant, solver=adam;, score=0.403 total time=   1.4s\n",
      "[CV 3/3] END activation=relu, alpha=0.05, hidden_layer_sizes=(50, 50, 50), learning_rate=constant, solver=adam;, score=0.352 total time=   1.0s\n",
      "[CV 3/3] END activation=relu, alpha=0.05, hidden_layer_sizes=(50, 50, 50), learning_rate=adaptive, solver=sgd;, score=0.168 total time=   0.9s\n",
      "[CV 1/3] END activation=relu, alpha=0.05, hidden_layer_sizes=(50, 50, 50), learning_rate=adaptive, solver=sgd;, score=0.161 total time=   1.2s\n",
      "[CV 2/3] END activation=relu, alpha=0.05, hidden_layer_sizes=(50, 50, 50), learning_rate=adaptive, solver=adam;, score=0.397 total time=   0.7s\n",
      "[CV 2/3] END activation=relu, alpha=0.05, hidden_layer_sizes=(50, 50, 50), learning_rate=adaptive, solver=sgd;, score=0.165 total time=   1.2s\n"
     ]
    },
    {
     "name": "stderr",
     "output_type": "stream",
     "text": [
      "/usr/local/lib/python3.10/dist-packages/sklearn/neural_network/_multilayer_perceptron.py:702: ConvergenceWarning: Stochastic Optimizer: Maximum iterations (100) reached and the optimization hasn't converged yet.\n",
      "  warnings.warn(\n"
     ]
    },
    {
     "name": "stdout",
     "output_type": "stream",
     "text": [
      "[CV 1/3] END activation=relu, alpha=0.05, hidden_layer_sizes=(50, 50, 50), learning_rate=adaptive, solver=adam;, score=0.329 total time=   0.8s\n",
      "[CV 1/3] END activation=relu, alpha=0.05, hidden_layer_sizes=(50, 100, 50), learning_rate=constant, solver=sgd;, score=0.174 total time=   0.7s\n",
      "[CV 3/3] END activation=relu, alpha=0.05, hidden_layer_sizes=(50, 50, 50), learning_rate=adaptive, solver=adam;, score=0.355 total time=   1.2s\n",
      "[CV 2/3] END activation=relu, alpha=0.05, hidden_layer_sizes=(50, 100, 50), learning_rate=constant, solver=sgd;, score=0.216 total time=   1.2s\n"
     ]
    },
    {
     "name": "stderr",
     "output_type": "stream",
     "text": [
      "/usr/local/lib/python3.10/dist-packages/sklearn/neural_network/_multilayer_perceptron.py:702: ConvergenceWarning: Stochastic Optimizer: Maximum iterations (100) reached and the optimization hasn't converged yet.\n",
      "  warnings.warn(\n"
     ]
    },
    {
     "name": "stdout",
     "output_type": "stream",
     "text": [
      "[CV 2/3] END activation=relu, alpha=0.05, hidden_layer_sizes=(50, 100, 50), learning_rate=constant, solver=adam;, score=0.332 total time=   1.2s\n",
      "[CV 3/3] END activation=relu, alpha=0.05, hidden_layer_sizes=(50, 100, 50), learning_rate=constant, solver=sgd;, score=0.168 total time=   1.3s\n",
      "[CV 1/3] END activation=relu, alpha=0.05, hidden_layer_sizes=(50, 100, 50), learning_rate=constant, solver=adam;, score=0.355 total time=   1.2s\n",
      "[CV 3/3] END activation=relu, alpha=0.05, hidden_layer_sizes=(50, 100, 50), learning_rate=constant, solver=adam;, score=0.342 total time=   1.1s\n"
     ]
    },
    {
     "name": "stderr",
     "output_type": "stream",
     "text": [
      "/usr/local/lib/python3.10/dist-packages/sklearn/neural_network/_multilayer_perceptron.py:702: ConvergenceWarning: Stochastic Optimizer: Maximum iterations (100) reached and the optimization hasn't converged yet.\n",
      "  warnings.warn(\n"
     ]
    },
    {
     "name": "stdout",
     "output_type": "stream",
     "text": [
      "[CV 1/3] END activation=relu, alpha=0.05, hidden_layer_sizes=(100,), learning_rate=constant, solver=sgd;, score=0.158 total time=   0.2s\n",
      "[CV 2/3] END activation=relu, alpha=0.05, hidden_layer_sizes=(100,), learning_rate=constant, solver=sgd;, score=0.158 total time=   0.2s\n",
      "[CV 1/3] END activation=relu, alpha=0.05, hidden_layer_sizes=(50, 100, 50), learning_rate=adaptive, solver=adam;, score=0.345 total time=   0.7s\n"
     ]
    },
    {
     "name": "stderr",
     "output_type": "stream",
     "text": [
      "/usr/local/lib/python3.10/dist-packages/sklearn/neural_network/_multilayer_perceptron.py:702: ConvergenceWarning: Stochastic Optimizer: Maximum iterations (100) reached and the optimization hasn't converged yet.\n",
      "  warnings.warn(\n"
     ]
    },
    {
     "name": "stdout",
     "output_type": "stream",
     "text": [
      "[CV 2/3] END activation=relu, alpha=0.05, hidden_layer_sizes=(50, 100, 50), learning_rate=adaptive, solver=sgd;, score=0.161 total time=   1.5s\n"
     ]
    },
    {
     "name": "stderr",
     "output_type": "stream",
     "text": [
      "/usr/local/lib/python3.10/dist-packages/sklearn/neural_network/_multilayer_perceptron.py:702: ConvergenceWarning: Stochastic Optimizer: Maximum iterations (100) reached and the optimization hasn't converged yet.\n",
      "  warnings.warn(\n"
     ]
    },
    {
     "name": "stdout",
     "output_type": "stream",
     "text": [
      "[CV 1/3] END activation=relu, alpha=0.05, hidden_layer_sizes=(50, 100, 50), learning_rate=adaptive, solver=sgd;, score=0.152 total time=   1.8s\n",
      "[CV 2/3] END activation=relu, alpha=0.05, hidden_layer_sizes=(50, 100, 50), learning_rate=adaptive, solver=adam;, score=0.342 total time=   0.9s\n",
      "[CV 3/3] END activation=relu, alpha=0.05, hidden_layer_sizes=(50, 100, 50), learning_rate=adaptive, solver=sgd;, score=0.161 total time=   1.4s\n",
      "[CV 1/3] END activation=relu, alpha=0.05, hidden_layer_sizes=(100,), learning_rate=constant, solver=adam;, score=0.423 total time=   1.1s\n"
     ]
    },
    {
     "name": "stderr",
     "output_type": "stream",
     "text": [
      "/usr/local/lib/python3.10/dist-packages/sklearn/neural_network/_multilayer_perceptron.py:702: ConvergenceWarning: Stochastic Optimizer: Maximum iterations (100) reached and the optimization hasn't converged yet.\n",
      "  warnings.warn(\n",
      "/usr/local/lib/python3.10/dist-packages/sklearn/neural_network/_multilayer_perceptron.py:702: ConvergenceWarning: Stochastic Optimizer: Maximum iterations (100) reached and the optimization hasn't converged yet.\n",
      "  warnings.warn(\n",
      "/usr/local/lib/python3.10/dist-packages/sklearn/neural_network/_multilayer_perceptron.py:702: ConvergenceWarning: Stochastic Optimizer: Maximum iterations (100) reached and the optimization hasn't converged yet.\n",
      "  warnings.warn(\n"
     ]
    },
    {
     "name": "stdout",
     "output_type": "stream",
     "text": [
      "[CV 2/3] END activation=relu, alpha=0.05, hidden_layer_sizes=(100,), learning_rate=constant, solver=adam;, score=0.465 total time=   1.2s\n",
      "[CV 2/3] END activation=relu, alpha=0.05, hidden_layer_sizes=(100,), learning_rate=adaptive, solver=sgd;, score=0.171 total time=   0.8s\n",
      "[CV 3/3] END activation=relu, alpha=0.05, hidden_layer_sizes=(100,), learning_rate=constant, solver=sgd;, score=0.155 total time=   1.5s\n",
      "[CV 3/3] END activation=relu, alpha=0.05, hidden_layer_sizes=(50, 100, 50), learning_rate=adaptive, solver=adam;, score=0.442 total time=   1.7s\n",
      "[CV 1/3] END activation=relu, alpha=0.05, hidden_layer_sizes=(100,), learning_rate=adaptive, solver=sgd;, score=0.148 total time=   1.0s\n",
      "[CV 3/3] END activation=relu, alpha=0.05, hidden_layer_sizes=(100,), learning_rate=adaptive, solver=sgd;, score=0.165 total time=   0.8s\n",
      "[CV 3/3] END activation=relu, alpha=0.05, hidden_layer_sizes=(100,), learning_rate=constant, solver=adam;, score=0.432 total time=   1.3s\n"
     ]
    },
    {
     "name": "stderr",
     "output_type": "stream",
     "text": [
      "/usr/local/lib/python3.10/dist-packages/sklearn/neural_network/_multilayer_perceptron.py:702: ConvergenceWarning: Stochastic Optimizer: Maximum iterations (100) reached and the optimization hasn't converged yet.\n",
      "  warnings.warn(\n",
      "/usr/local/lib/python3.10/dist-packages/sklearn/neural_network/_multilayer_perceptron.py:702: ConvergenceWarning: Stochastic Optimizer: Maximum iterations (100) reached and the optimization hasn't converged yet.\n",
      "  warnings.warn(\n"
     ]
    },
    {
     "name": "stdout",
     "output_type": "stream",
     "text": [
      "[CV 2/3] END activation=relu, alpha=0.05, hidden_layer_sizes=(100,), learning_rate=adaptive, solver=adam;, score=0.413 total time=   0.6s\n",
      "[CV 1/3] END activation=relu, alpha=0.05, hidden_layer_sizes=(100,), learning_rate=adaptive, solver=adam;, score=0.452 total time=   0.9s\n",
      "[CV 3/3] END activation=relu, alpha=0.05, hidden_layer_sizes=(100,), learning_rate=adaptive, solver=adam;, score=0.419 total time=   0.6s\n",
      "{'activation': 'tanh', 'alpha': 0.05, 'hidden_layer_sizes': (100,), 'learning_rate': 'constant', 'solver': 'adam'}\n"
     ]
    },
    {
     "name": "stderr",
     "output_type": "stream",
     "text": [
      "/usr/local/lib/python3.10/dist-packages/sklearn/neural_network/_multilayer_perceptron.py:702: ConvergenceWarning: Stochastic Optimizer: Maximum iterations (100) reached and the optimization hasn't converged yet.\n",
      "  warnings.warn(\n"
     ]
    }
   ],
   "source": [
    "param_grid = {\n",
    "    'hidden_layer_sizes': [(50,50,50), (50,100,50), (100,)],\n",
    "    'activation': ['tanh', 'relu'],\n",
    "    'solver': ['sgd', 'adam'],\n",
    "    'alpha': [0.0001, 0.05],\n",
    "    'learning_rate': ['constant','adaptive'],\n",
    "}\n",
    "\n",
    "grid_mlpc = GridSearchCV(MLPClassifier(max_iter=100), param_grid, n_jobs=-1, cv=3, verbose=0)\n",
    "grid_mlpc.fit(x_train, y_train)\n",
    "\n",
    "print(grid_mlpc.best_params_)"
   ]
  },
  {
   "cell_type": "code",
   "execution_count": 42,
   "id": "7d07f939",
   "metadata": {},
   "outputs": [
    {
     "name": "stdout",
     "output_type": "stream",
     "text": [
      "Accuracy :  60.13 %\n"
     ]
    },
    {
     "name": "stderr",
     "output_type": "stream",
     "text": [
      "/usr/local/lib/python3.10/dist-packages/sklearn/neural_network/_multilayer_perceptron.py:702: ConvergenceWarning: Stochastic Optimizer: Maximum iterations (500) reached and the optimization hasn't converged yet.\n",
      "  warnings.warn(\n"
     ]
    }
   ],
   "source": [
    "# Select best hyper-parameters for MLPC model\n",
    "# activation=tanh, alpha=0.05, hidden_layer_sizes=(100,), learning_rate=constant, solver=adam\n",
    "activation_opti, alpha_opti, hidden_layer_sizes_opti, learnin_rate_opti, solver_opti = grid_mlpc.best_params_['activation'], grid_mlpc.best_params_['alpha'], grid_mlpc.best_params_['hidden_layer_sizes'], grid_mlpc.best_params_['learning_rate'], grid_mlpc.best_params_['solver']\n",
    "\n",
    "mlpc = MLPClassifier(activation=activation_opti, solver=solver_opti, alpha=alpha_opti, batch_size=256, epsilon=1e-08, hidden_layer_sizes=hidden_layer_sizes_opti, learning_rate=learnin_rate_opti, max_iter=500)\n",
    "mlpc.fit(x_train,y_train)\n",
    "\n",
    "y_pred = mlpc.predict(x_test)\n",
    "\n",
    "accuracy = round(accuracy_score(y_true=y_test,y_pred=y_pred)*100,2)\n",
    "print(\"Accuracy : \", accuracy,\"%\")"
   ]
  },
  {
   "cell_type": "markdown",
   "id": "9073cda4-0ca4-4186-b138-8e4c78cfd67c",
   "metadata": {},
   "source": [
    "### 3 - Random Forest"
   ]
  },
  {
   "cell_type": "code",
   "execution_count": 47,
   "id": "f9b85897",
   "metadata": {},
   "outputs": [
    {
     "name": "stderr",
     "output_type": "stream",
     "text": [
      "/usr/local/lib/python3.10/dist-packages/sklearn/model_selection/_validation.py:378: FitFailedWarning: \n",
      "432 fits failed out of a total of 1296.\n",
      "The score on these train-test partitions for these parameters will be set to nan.\n",
      "If these failures are not expected, you can try to debug them by setting error_score='raise'.\n",
      "\n",
      "Below are more details about the failures:\n",
      "--------------------------------------------------------------------------------\n",
      "432 fits failed with the following error:\n",
      "Traceback (most recent call last):\n",
      "  File \"/usr/local/lib/python3.10/dist-packages/sklearn/model_selection/_validation.py\", line 686, in _fit_and_score\n",
      "    estimator.fit(X_train, y_train, **fit_params)\n",
      "  File \"/usr/local/lib/python3.10/dist-packages/sklearn/ensemble/_forest.py\", line 476, in fit\n",
      "    trees = Parallel(\n",
      "  File \"/usr/local/lib/python3.10/dist-packages/joblib/parallel.py\", line 1043, in __call__\n",
      "    if self.dispatch_one_batch(iterator):\n",
      "  File \"/usr/local/lib/python3.10/dist-packages/joblib/parallel.py\", line 861, in dispatch_one_batch\n",
      "    self._dispatch(tasks)\n",
      "  File \"/usr/local/lib/python3.10/dist-packages/joblib/parallel.py\", line 779, in _dispatch\n",
      "    job = self._backend.apply_async(batch, callback=cb)\n",
      "  File \"/usr/local/lib/python3.10/dist-packages/joblib/_parallel_backends.py\", line 208, in apply_async\n",
      "    result = ImmediateResult(func)\n",
      "  File \"/usr/local/lib/python3.10/dist-packages/joblib/_parallel_backends.py\", line 572, in __init__\n",
      "    self.results = batch()\n",
      "  File \"/usr/local/lib/python3.10/dist-packages/joblib/parallel.py\", line 262, in __call__\n",
      "    return [func(*args, **kwargs)\n",
      "  File \"/usr/local/lib/python3.10/dist-packages/joblib/parallel.py\", line 262, in <listcomp>\n",
      "    return [func(*args, **kwargs)\n",
      "  File \"/usr/local/lib/python3.10/dist-packages/sklearn/utils/fixes.py\", line 117, in __call__\n",
      "    return self.function(*args, **kwargs)\n",
      "  File \"/usr/local/lib/python3.10/dist-packages/sklearn/ensemble/_forest.py\", line 189, in _parallel_build_trees\n",
      "    tree.fit(X, y, sample_weight=curr_sample_weight, check_input=False)\n",
      "  File \"/usr/local/lib/python3.10/dist-packages/sklearn/tree/_classes.py\", line 969, in fit\n",
      "    super().fit(\n",
      "  File \"/usr/local/lib/python3.10/dist-packages/sklearn/tree/_classes.py\", line 265, in fit\n",
      "    check_scalar(\n",
      "  File \"/usr/local/lib/python3.10/dist-packages/sklearn/utils/validation.py\", line 1480, in check_scalar\n",
      "    raise ValueError(\n",
      "ValueError: min_samples_split == 1, must be >= 2.\n",
      "\n",
      "  warnings.warn(some_fits_failed_message, FitFailedWarning)\n",
      "/usr/local/lib/python3.10/dist-packages/sklearn/model_selection/_search.py:953: UserWarning: One or more of the test scores are non-finite: [       nan        nan        nan 0.30752688 0.3483871  0.34301075\n",
      " 0.30107527 0.35053763 0.35376344        nan        nan        nan\n",
      " 0.31182796 0.32580645 0.34731183 0.30860215 0.3344086  0.34731183\n",
      "        nan        nan        nan 0.33010753 0.32580645 0.35376344\n",
      " 0.32473118 0.35376344 0.34731183        nan        nan        nan\n",
      " 0.31397849 0.34731183 0.35376344 0.33010753 0.34516129 0.3483871\n",
      "        nan        nan        nan 0.3344086  0.34731183 0.34408602\n",
      " 0.33548387 0.34623656 0.34408602        nan        nan        nan\n",
      " 0.32043011 0.34086022 0.35053763 0.3311828  0.35053763 0.34086022\n",
      "        nan        nan        nan 0.33010753 0.35268817 0.35806452\n",
      " 0.32043011 0.35913978 0.35913978        nan        nan        nan\n",
      " 0.32580645 0.34731183 0.3516129  0.32365591 0.35591398 0.35483871\n",
      "        nan        nan        nan 0.33225806 0.36021505 0.3516129\n",
      " 0.32903226 0.36129032 0.34946237        nan        nan        nan\n",
      " 0.33225806 0.35053763 0.35698925 0.33333333 0.34623656 0.34731183\n",
      "        nan        nan        nan 0.33010753 0.35591398 0.36129032\n",
      " 0.33010753 0.3483871  0.34516129        nan        nan        nan\n",
      " 0.31505376 0.3483871  0.35053763 0.33978495 0.35806452 0.35591398\n",
      "        nan        nan        nan 0.3172043  0.37741935 0.37956989\n",
      " 0.35053763 0.38924731 0.3827957         nan        nan        nan\n",
      " 0.33548387 0.37741935 0.38602151 0.3344086  0.38602151 0.39247312\n",
      "        nan        nan        nan 0.34408602 0.38387097 0.37634409\n",
      " 0.34408602 0.37311828 0.39569892        nan        nan        nan\n",
      " 0.37634409 0.40215054 0.40107527 0.33655914 0.40860215 0.40322581\n",
      "        nan        nan        nan 0.37419355 0.39569892 0.39892473\n",
      " 0.35698925 0.3827957  0.39569892        nan        nan        nan\n",
      " 0.36236559 0.41182796 0.39569892 0.37419355 0.39569892 0.39462366\n",
      "        nan        nan        nan 0.32795699 0.4172043  0.4\n",
      " 0.34946237 0.40860215 0.40322581        nan        nan        nan\n",
      " 0.35376344 0.41397849 0.40215054 0.3655914  0.40860215 0.40645161\n",
      "        nan        nan        nan 0.35913978 0.40215054 0.39677419\n",
      " 0.36344086 0.39569892 0.40860215        nan        nan        nan\n",
      " 0.38064516 0.40537634 0.41075269 0.37419355 0.39677419 0.4\n",
      "        nan        nan        nan 0.38817204 0.40860215 0.41612903\n",
      " 0.37096774 0.40860215 0.40430108        nan        nan        nan\n",
      " 0.35376344 0.41397849 0.40967742 0.37096774 0.41397849 0.41290323\n",
      "        nan        nan        nan 0.36021505 0.43655914 0.45483871\n",
      " 0.35913978 0.44408602 0.4655914         nan        nan        nan\n",
      " 0.39354839 0.4344086  0.45698925 0.36774194 0.44946237 0.43978495\n",
      "        nan        nan        nan 0.36021505 0.45698925 0.44301075\n",
      " 0.3827957  0.44408602 0.44408602        nan        nan        nan\n",
      " 0.36774194 0.47634409 0.47311828 0.38602151 0.47096774 0.4688172\n",
      "        nan        nan        nan 0.39784946 0.45698925 0.4655914\n",
      " 0.37204301 0.45591398 0.45806452        nan        nan        nan\n",
      " 0.4        0.47096774 0.47204301 0.39247312 0.44946237 0.4655914\n",
      "        nan        nan        nan 0.42150538 0.48172043 0.47849462\n",
      " 0.40322581 0.47634409 0.48387097        nan        nan        nan\n",
      " 0.40645161 0.47526882 0.46451613 0.38387097 0.47956989 0.48602151\n",
      "        nan        nan        nan 0.38709677 0.4688172  0.4655914\n",
      " 0.39032258 0.47204301 0.46344086        nan        nan        nan\n",
      " 0.39462366 0.5        0.48494624 0.40967742 0.46989247 0.50215054\n",
      "        nan        nan        nan 0.42258065 0.46451613 0.47956989\n",
      " 0.40107527 0.47096774 0.47311828        nan        nan        nan\n",
      " 0.39354839 0.46774194 0.4688172  0.40752688 0.47096774 0.46774194\n",
      "        nan        nan        nan 0.39247312 0.46021505 0.47634409\n",
      " 0.3655914  0.47311828 0.47419355        nan        nan        nan\n",
      " 0.35483871 0.45268817 0.47849462 0.34623656 0.44731183 0.48387097\n",
      "        nan        nan        nan 0.3655914  0.44408602 0.44731183\n",
      " 0.37526882 0.43978495 0.4516129         nan        nan        nan\n",
      " 0.40322581 0.47419355 0.49462366 0.36989247 0.47311828 0.48064516\n",
      "        nan        nan        nan 0.37526882 0.47634409 0.48172043\n",
      " 0.39462366 0.46344086 0.48924731        nan        nan        nan\n",
      " 0.38817204 0.47419355 0.4655914  0.39892473 0.45913978 0.48387097\n",
      "        nan        nan        nan 0.37419355 0.47741935 0.49677419\n",
      " 0.35591398 0.48709677 0.51290323        nan        nan        nan\n",
      " 0.39784946 0.47311828 0.48602151 0.38064516 0.50107527 0.50322581\n",
      "        nan        nan        nan 0.39569892 0.46236559 0.48817204\n",
      " 0.41397849 0.48494624 0.46989247        nan        nan        nan\n",
      " 0.4        0.51290323 0.51505376 0.39784946 0.49032258 0.51397849\n",
      "        nan        nan        nan 0.39569892 0.46774194 0.49892473\n",
      " 0.40430108 0.50752688 0.49784946        nan        nan        nan\n",
      " 0.40645161 0.47849462 0.48387097 0.40430108 0.48064516 0.48602151]\n",
      "  warnings.warn(\n"
     ]
    },
    {
     "name": "stdout",
     "output_type": "stream",
     "text": [
      "{'max_depth': None, 'max_features': 7, 'min_samples_leaf': 1, 'min_samples_split': 2, 'n_estimators': 200}\n"
     ]
    }
   ],
   "source": [
    "param_grid = {\n",
    "    'max_depth':[3,5,10,None],\n",
    "    'n_estimators':[10,100,200],\n",
    "    'max_features':[1,3,5,7],\n",
    "    'min_samples_leaf':[1,2,3],\n",
    "    'min_samples_split':[1,2,3]\n",
    "}\n",
    "\n",
    "grid_rforest = GridSearchCV(RandomForestClassifier(), param_grid, n_jobs=-1, cv=3, verbose=0)\n",
    "grid_rforest.fit(x_train, y_train)\n",
    "\n",
    "print(grid_rforest.best_params_)"
   ]
  },
  {
   "cell_type": "code",
   "execution_count": 49,
   "id": "8bbec4dd-daab-4d8d-a733-4370baaa3df9",
   "metadata": {},
   "outputs": [
    {
     "name": "stdout",
     "output_type": "stream",
     "text": [
      "Accuracy :  54.66 %\n"
     ]
    }
   ],
   "source": [
    "# Select best hyper-parameters for Random Forest model\n",
    "# max_depth=None, max_features=7, min_samples_leaf=1, min_samples_split=2, n_estimators=200\n",
    "max_depth_opti, max_features_opti, min_samples_leaf_opti, min_samples_split_opti, n_estimators_opti = grid_rforest.best_params_['max_depth'], grid_rforest.best_params_['max_features'], grid_rforest.best_params_['min_samples_leaf'], grid_rforest.best_params_['min_samples_split'], grid_rforest.best_params_['n_estimators']\n",
    "\n",
    "rforest = RandomForestClassifier(max_depth=max_depth_opti, max_features=max_features_opti, min_samples_leaf=min_samples_leaf_opti, min_samples_split=min_samples_split_opti, n_estimators=n_estimators_opti)\n",
    "rforest.fit(x_train, y_train)\n",
    "\n",
    "y_pred = rforest.predict(x_test)\n",
    "\n",
    "accuracy = round(accuracy_score(y_true=y_test,y_pred=y_pred)*100,2)\n",
    "print(\"Accuracy : \", accuracy,\"%\")"
   ]
  },
  {
   "cell_type": "markdown",
   "id": "ZN1X_xD8YRnH",
   "metadata": {
    "id": "ZN1X_xD8YRnH"
   },
   "source": [
    "### Linear Prediction Cepstral Coefficient (LPCC)"
   ]
  },
  {
   "cell_type": "code",
   "execution_count": null,
   "id": "PYSxSBmnYjiB",
   "metadata": {
    "id": "PYSxSBmnYjiB"
   },
   "outputs": [],
   "source": []
  },
  {
   "cell_type": "markdown",
   "id": "fff052b7",
   "metadata": {},
   "source": [
    "## CNN"
   ]
  },
  {
   "cell_type": "code",
   "execution_count": 36,
   "id": "40e98174",
   "metadata": {},
   "outputs": [],
   "source": [
    "labels = []\n",
    "for emotion in y : \n",
    "    l = np.argmax(emotion)\n",
    "    labels.append(l)"
   ]
  },
  {
   "cell_type": "code",
   "execution_count": 59,
   "id": "27e86a45",
   "metadata": {},
   "outputs": [
    {
     "name": "stdout",
     "output_type": "stream",
     "text": [
      "Epoch 1/20\n",
      "31/31 [==============================] - 1s 15ms/step - loss: 2.1748 - accuracy: 0.2218 - val_loss: 1.8078 - val_accuracy: 0.1847\n",
      "Epoch 2/20\n",
      "31/31 [==============================] - 0s 9ms/step - loss: 1.7362 - accuracy: 0.3226 - val_loss: 1.7420 - val_accuracy: 0.3534\n",
      "Epoch 3/20\n",
      "31/31 [==============================] - 0s 10ms/step - loss: 1.5891 - accuracy: 0.3841 - val_loss: 1.5708 - val_accuracy: 0.3976\n",
      "Epoch 4/20\n",
      "31/31 [==============================] - 0s 10ms/step - loss: 1.4884 - accuracy: 0.4204 - val_loss: 1.6524 - val_accuracy: 0.3614\n",
      "Epoch 5/20\n",
      "31/31 [==============================] - 0s 10ms/step - loss: 1.4192 - accuracy: 0.4657 - val_loss: 1.4237 - val_accuracy: 0.4819\n",
      "Epoch 6/20\n",
      "31/31 [==============================] - 0s 10ms/step - loss: 1.3430 - accuracy: 0.5111 - val_loss: 1.4985 - val_accuracy: 0.4458\n",
      "Epoch 7/20\n",
      "31/31 [==============================] - 0s 9ms/step - loss: 1.2330 - accuracy: 0.5373 - val_loss: 1.3710 - val_accuracy: 0.5221\n",
      "Epoch 8/20\n",
      "31/31 [==============================] - 0s 10ms/step - loss: 1.0947 - accuracy: 0.6089 - val_loss: 1.3358 - val_accuracy: 0.5261\n",
      "Epoch 9/20\n",
      "31/31 [==============================] - 0s 9ms/step - loss: 1.0254 - accuracy: 0.6341 - val_loss: 1.3556 - val_accuracy: 0.5622\n",
      "Epoch 10/20\n",
      "31/31 [==============================] - 0s 9ms/step - loss: 0.9554 - accuracy: 0.6552 - val_loss: 1.3111 - val_accuracy: 0.5663\n",
      "Epoch 11/20\n",
      "31/31 [==============================] - 0s 10ms/step - loss: 0.8505 - accuracy: 0.6996 - val_loss: 1.2569 - val_accuracy: 0.5582\n",
      "Epoch 12/20\n",
      "31/31 [==============================] - 0s 9ms/step - loss: 0.7597 - accuracy: 0.7389 - val_loss: 1.2744 - val_accuracy: 0.5582\n",
      "Epoch 13/20\n",
      "31/31 [==============================] - 0s 9ms/step - loss: 0.6597 - accuracy: 0.7712 - val_loss: 1.3247 - val_accuracy: 0.5462\n",
      "Epoch 14/20\n",
      "31/31 [==============================] - 0s 9ms/step - loss: 0.5682 - accuracy: 0.8196 - val_loss: 1.2297 - val_accuracy: 0.5783\n",
      "Epoch 15/20\n",
      "31/31 [==============================] - 0s 10ms/step - loss: 0.4999 - accuracy: 0.8306 - val_loss: 1.2175 - val_accuracy: 0.5984\n",
      "Epoch 16/20\n",
      "31/31 [==============================] - 0s 9ms/step - loss: 0.4727 - accuracy: 0.8508 - val_loss: 1.2708 - val_accuracy: 0.5663\n",
      "Epoch 17/20\n",
      "31/31 [==============================] - 0s 10ms/step - loss: 0.4412 - accuracy: 0.8710 - val_loss: 1.3817 - val_accuracy: 0.6185\n",
      "Epoch 18/20\n",
      "31/31 [==============================] - 0s 9ms/step - loss: 0.3438 - accuracy: 0.8911 - val_loss: 1.1944 - val_accuracy: 0.6345\n",
      "Epoch 19/20\n",
      "31/31 [==============================] - 0s 9ms/step - loss: 0.2580 - accuracy: 0.9304 - val_loss: 1.1972 - val_accuracy: 0.6265\n",
      "Epoch 20/20\n",
      "31/31 [==============================] - 0s 9ms/step - loss: 0.2067 - accuracy: 0.9496 - val_loss: 1.2124 - val_accuracy: 0.6426\n",
      "8/8 [==============================] - 0s 4ms/step - loss: 1.2124 - accuracy: 0.6426\n",
      "Test Accuracy: 0.6425702571868896\n"
     ]
    }
   ],
   "source": [
    "# Étiquetage des émotions\n",
    "label_encoder = LabelEncoder()\n",
    "y = label_encoder.fit_transform(labels)\n",
    "y = to_categorical(y, num_classes=len(label_encoder.classes_))\n",
    "\n",
    "x_train, x_test, y_train, y_test = train_test_split(x, y, test_size=0.2, random_state=42)\n",
    "\n",
    "#x_train.shape = (930,180)\n",
    "\n",
    "# Création du modèle CNN\n",
    "model = models.Sequential()\n",
    "model.add(layers.Reshape((180, 1), input_shape=(180,)))  # Reshape pour ajouter la dimension du canal\n",
    "model.add(layers.Conv1D(32, 3, activation='relu'))\n",
    "model.add(layers.MaxPooling1D(2))\n",
    "model.add(layers.Conv1D(64, 3, activation='relu'))\n",
    "model.add(layers.MaxPooling1D(2))\n",
    "model.add(layers.Conv1D(128, 3, activation='relu'))\n",
    "model.add(layers.MaxPooling1D(2))\n",
    "model.add(layers.Flatten())\n",
    "model.add(layers.Dense(128, activation='relu'))\n",
    "model.add(layers.Dense(len(label_encoder.classes_), activation='softmax'))\n",
    "\n",
    "# Compilation du modèle\n",
    "model.compile(optimizer='adam', loss='categorical_crossentropy', metrics=['accuracy'])\n",
    "\n",
    "# Entraînement du modèle\n",
    "model.fit(x_train, y_train, epochs=20, batch_size=32, validation_data=(x_test, y_test))\n",
    "\n",
    "# Évaluation du modèle\n",
    "test_loss, test_acc = model.evaluate(x_test, y_test)\n",
    "print(f'Test Accuracy: {test_acc}')\n"
   ]
  },
  {
   "cell_type": "code",
   "execution_count": null,
   "id": "0bf448e8",
   "metadata": {},
   "outputs": [],
   "source": []
  },
  {
   "cell_type": "markdown",
   "id": "53469a90",
   "metadata": {},
   "source": [
    "## Results of the benchmark"
   ]
  },
  {
   "cell_type": "markdown",
   "id": "912345a6",
   "metadata": {},
   "source": [
    "### Cross validation"
   ]
  },
  {
   "cell_type": "code",
   "execution_count": 50,
   "id": "7ef55ce6",
   "metadata": {},
   "outputs": [
    {
     "name": "stderr",
     "output_type": "stream",
     "text": [
      "/usr/local/lib/python3.10/dist-packages/sklearn/neural_network/_multilayer_perceptron.py:702: ConvergenceWarning: Stochastic Optimizer: Maximum iterations (500) reached and the optimization hasn't converged yet.\n",
      "  warnings.warn(\n",
      "/usr/local/lib/python3.10/dist-packages/sklearn/neural_network/_multilayer_perceptron.py:702: ConvergenceWarning: Stochastic Optimizer: Maximum iterations (500) reached and the optimization hasn't converged yet.\n",
      "  warnings.warn(\n",
      "/usr/local/lib/python3.10/dist-packages/sklearn/neural_network/_multilayer_perceptron.py:702: ConvergenceWarning: Stochastic Optimizer: Maximum iterations (500) reached and the optimization hasn't converged yet.\n",
      "  warnings.warn(\n",
      "/usr/local/lib/python3.10/dist-packages/sklearn/neural_network/_multilayer_perceptron.py:702: ConvergenceWarning: Stochastic Optimizer: Maximum iterations (500) reached and the optimization hasn't converged yet.\n",
      "  warnings.warn(\n",
      "/usr/local/lib/python3.10/dist-packages/sklearn/neural_network/_multilayer_perceptron.py:702: ConvergenceWarning: Stochastic Optimizer: Maximum iterations (500) reached and the optimization hasn't converged yet.\n",
      "  warnings.warn(\n"
     ]
    }
   ],
   "source": [
    "from sklearn.model_selection import cross_val_score\n",
    "\n",
    "svm_scores = cross_val_score(svc, x,y, cv=5)\n",
    "mlpc_scores = cross_val_score(mlpc, x,y, cv=5)\n",
    "rforest_scores = cross_val_score(rforest, x,y, cv=5)\n",
    "\n",
    "names = [\"SVM\", \"MLPC\", \"Random Forest\"]\n",
    "means = [np.mean(svm_scores), np.mean(mlpc_scores), np.mean(rforest_scores)]\n",
    "stds = [np.std(svm_scores), np.std(mlpc_scores), np.std(rforest_scores)]\n",
    "mins = [min(svm_scores), min(mlpc_scores), min(rforest_scores)]\n",
    "maxs = [max(svm_scores), max(mlpc_scores), max(rforest_scores)]"
   ]
  },
  {
   "cell_type": "code",
   "execution_count": 51,
   "id": "15f0b465",
   "metadata": {},
   "outputs": [
    {
     "data": {
      "text/html": [
       "<div>\n",
       "<style scoped>\n",
       "    .dataframe tbody tr th:only-of-type {\n",
       "        vertical-align: middle;\n",
       "    }\n",
       "\n",
       "    .dataframe tbody tr th {\n",
       "        vertical-align: top;\n",
       "    }\n",
       "\n",
       "    .dataframe thead th {\n",
       "        text-align: right;\n",
       "    }\n",
       "</style>\n",
       "<table border=\"1\" class=\"dataframe\">\n",
       "  <thead>\n",
       "    <tr style=\"text-align: right;\">\n",
       "      <th></th>\n",
       "      <th>name</th>\n",
       "      <th>min</th>\n",
       "      <th>mean</th>\n",
       "      <th>max</th>\n",
       "      <th>var</th>\n",
       "    </tr>\n",
       "  </thead>\n",
       "  <tbody>\n",
       "    <tr>\n",
       "      <th>0</th>\n",
       "      <td>SVM</td>\n",
       "      <td>0.552419</td>\n",
       "      <td>0.605966</td>\n",
       "      <td>0.681452</td>\n",
       "      <td>0.045476</td>\n",
       "    </tr>\n",
       "    <tr>\n",
       "      <th>1</th>\n",
       "      <td>MLPC</td>\n",
       "      <td>0.629032</td>\n",
       "      <td>0.655904</td>\n",
       "      <td>0.678715</td>\n",
       "      <td>0.015798</td>\n",
       "    </tr>\n",
       "    <tr>\n",
       "      <th>2</th>\n",
       "      <td>Random Forest</td>\n",
       "      <td>0.528226</td>\n",
       "      <td>0.560827</td>\n",
       "      <td>0.574297</td>\n",
       "      <td>0.016983</td>\n",
       "    </tr>\n",
       "  </tbody>\n",
       "</table>\n",
       "</div>"
      ],
      "text/plain": [
       "            name       min      mean       max       var\n",
       "0            SVM  0.552419  0.605966  0.681452  0.045476\n",
       "1           MLPC  0.629032  0.655904  0.678715  0.015798\n",
       "2  Random Forest  0.528226  0.560827  0.574297  0.016983"
      ]
     },
     "execution_count": 51,
     "metadata": {},
     "output_type": "execute_result"
    }
   ],
   "source": [
    "data = {\n",
    "    'name': names,\n",
    "    'min': mins,\n",
    "    'mean': means,\n",
    "    'max': maxs,\n",
    "    'var': stds\n",
    "}\n",
    "\n",
    "df = pd.DataFrame(data=data)\n",
    "df"
   ]
  }
 ],
 "metadata": {
  "colab": {
   "provenance": []
  },
  "kernelspec": {
   "display_name": "Python 3",
   "language": "python",
   "name": "python3"
  },
  "language_info": {
   "codemirror_mode": {
    "name": "ipython",
    "version": 3
   },
   "file_extension": ".py",
   "mimetype": "text/x-python",
   "name": "python",
   "nbconvert_exporter": "python",
   "pygments_lexer": "ipython3",
   "version": "3.8.8"
  }
 },
 "nbformat": 4,
 "nbformat_minor": 5
}
