{
  "cells": [
    {
      "cell_type": "markdown",
      "id": "58766f63-d8a2-4c7b-be64-29c2b5edbc1f",
      "metadata": {
        "id": "58766f63-d8a2-4c7b-be64-29c2b5edbc1f"
      },
      "source": [
        "# <center>Real-time emotion detection</center>\n",
        "\n",
        "Authors : DOUET Marie, GRINDEL Brice, MARTIN Lucas, SOUVANNAVONG Elise"
      ]
    },
    {
      "cell_type": "markdown",
      "id": "a6dd6d75-9298-43cb-8652-3bbe6ce68884",
      "metadata": {
        "id": "a6dd6d75-9298-43cb-8652-3bbe6ce68884"
      },
      "source": [
        "## Global imports"
      ]
    },
    {
      "cell_type": "code",
      "execution_count": 1,
      "id": "78f0e6f3-5f21-4b2c-ac1b-054dd8b0c3b4",
      "metadata": {
        "id": "78f0e6f3-5f21-4b2c-ac1b-054dd8b0c3b4"
      },
      "outputs": [],
      "source": [
        "import pandas as pd\n",
        "import matplotlib.pyplot as plt\n",
        "import numpy as np\n",
        "import os"
      ]
    },
    {
      "cell_type": "markdown",
      "id": "d44b126b-6f6f-4339-9011-58f650149ac9",
      "metadata": {
        "id": "d44b126b-6f6f-4339-9011-58f650149ac9"
      },
      "source": [
        "## Benchmark of datasets"
      ]
    },
    {
      "cell_type": "markdown",
      "id": "e0506795",
      "metadata": {},
      "source": [
        "### RAVDESS"
      ]
    },
    {
      "cell_type": "code",
      "execution_count": 2,
      "id": "b139a51c",
      "metadata": {},
      "outputs": [
        {
          "data": {
            "text/html": [
              "<div>\n",
              "<style scoped>\n",
              "    .dataframe tbody tr th:only-of-type {\n",
              "        vertical-align: middle;\n",
              "    }\n",
              "\n",
              "    .dataframe tbody tr th {\n",
              "        vertical-align: top;\n",
              "    }\n",
              "\n",
              "    .dataframe thead th {\n",
              "        text-align: right;\n",
              "    }\n",
              "</style>\n",
              "<table border=\"1\" class=\"dataframe\">\n",
              "  <thead>\n",
              "    <tr style=\"text-align: right;\">\n",
              "      <th></th>\n",
              "      <th>id</th>\n",
              "      <th>Type of file</th>\n",
              "      <th>Voice channel</th>\n",
              "      <th>Label</th>\n",
              "      <th>Emotional intensity</th>\n",
              "      <th>Statement</th>\n",
              "      <th>Repetition</th>\n",
              "      <th>Actor</th>\n",
              "    </tr>\n",
              "  </thead>\n",
              "  <tbody>\n",
              "    <tr>\n",
              "      <th>0</th>\n",
              "      <td>03-01-08-01-02-01-12</td>\n",
              "      <td>03</td>\n",
              "      <td>01</td>\n",
              "      <td>08</td>\n",
              "      <td>01</td>\n",
              "      <td>02</td>\n",
              "      <td>01</td>\n",
              "      <td>12</td>\n",
              "    </tr>\n",
              "    <tr>\n",
              "      <th>1</th>\n",
              "      <td>03-01-04-01-01-02-13</td>\n",
              "      <td>03</td>\n",
              "      <td>01</td>\n",
              "      <td>04</td>\n",
              "      <td>01</td>\n",
              "      <td>01</td>\n",
              "      <td>02</td>\n",
              "      <td>13</td>\n",
              "    </tr>\n",
              "    <tr>\n",
              "      <th>2</th>\n",
              "      <td>03-01-06-01-01-02-12</td>\n",
              "      <td>03</td>\n",
              "      <td>01</td>\n",
              "      <td>06</td>\n",
              "      <td>01</td>\n",
              "      <td>01</td>\n",
              "      <td>02</td>\n",
              "      <td>12</td>\n",
              "    </tr>\n",
              "    <tr>\n",
              "      <th>3</th>\n",
              "      <td>03-01-07-02-01-02-23</td>\n",
              "      <td>03</td>\n",
              "      <td>01</td>\n",
              "      <td>07</td>\n",
              "      <td>02</td>\n",
              "      <td>01</td>\n",
              "      <td>02</td>\n",
              "      <td>23</td>\n",
              "    </tr>\n",
              "    <tr>\n",
              "      <th>4</th>\n",
              "      <td>03-01-08-02-02-02-06</td>\n",
              "      <td>03</td>\n",
              "      <td>01</td>\n",
              "      <td>08</td>\n",
              "      <td>02</td>\n",
              "      <td>02</td>\n",
              "      <td>02</td>\n",
              "      <td>06</td>\n",
              "    </tr>\n",
              "    <tr>\n",
              "      <th>...</th>\n",
              "      <td>...</td>\n",
              "      <td>...</td>\n",
              "      <td>...</td>\n",
              "      <td>...</td>\n",
              "      <td>...</td>\n",
              "      <td>...</td>\n",
              "      <td>...</td>\n",
              "      <td>...</td>\n",
              "    </tr>\n",
              "    <tr>\n",
              "      <th>1435</th>\n",
              "      <td>03-01-03-02-01-01-19</td>\n",
              "      <td>03</td>\n",
              "      <td>01</td>\n",
              "      <td>03</td>\n",
              "      <td>02</td>\n",
              "      <td>01</td>\n",
              "      <td>01</td>\n",
              "      <td>19</td>\n",
              "    </tr>\n",
              "    <tr>\n",
              "      <th>1436</th>\n",
              "      <td>03-01-06-01-01-01-09</td>\n",
              "      <td>03</td>\n",
              "      <td>01</td>\n",
              "      <td>06</td>\n",
              "      <td>01</td>\n",
              "      <td>01</td>\n",
              "      <td>01</td>\n",
              "      <td>09</td>\n",
              "    </tr>\n",
              "    <tr>\n",
              "      <th>1437</th>\n",
              "      <td>03-01-04-02-02-01-02</td>\n",
              "      <td>03</td>\n",
              "      <td>01</td>\n",
              "      <td>04</td>\n",
              "      <td>02</td>\n",
              "      <td>02</td>\n",
              "      <td>01</td>\n",
              "      <td>02</td>\n",
              "    </tr>\n",
              "    <tr>\n",
              "      <th>1438</th>\n",
              "      <td>03-01-07-02-01-02-03</td>\n",
              "      <td>03</td>\n",
              "      <td>01</td>\n",
              "      <td>07</td>\n",
              "      <td>02</td>\n",
              "      <td>01</td>\n",
              "      <td>02</td>\n",
              "      <td>03</td>\n",
              "    </tr>\n",
              "    <tr>\n",
              "      <th>1439</th>\n",
              "      <td>03-01-05-01-01-02-14</td>\n",
              "      <td>03</td>\n",
              "      <td>01</td>\n",
              "      <td>05</td>\n",
              "      <td>01</td>\n",
              "      <td>01</td>\n",
              "      <td>02</td>\n",
              "      <td>14</td>\n",
              "    </tr>\n",
              "  </tbody>\n",
              "</table>\n",
              "<p>1440 rows × 8 columns</p>\n",
              "</div>"
            ],
            "text/plain": [
              "                        id Type of file Voice channel Label  \\\n",
              "0     03-01-08-01-02-01-12           03            01    08   \n",
              "1     03-01-04-01-01-02-13           03            01    04   \n",
              "2     03-01-06-01-01-02-12           03            01    06   \n",
              "3     03-01-07-02-01-02-23           03            01    07   \n",
              "4     03-01-08-02-02-02-06           03            01    08   \n",
              "...                    ...          ...           ...   ...   \n",
              "1435  03-01-03-02-01-01-19           03            01    03   \n",
              "1436  03-01-06-01-01-01-09           03            01    06   \n",
              "1437  03-01-04-02-02-01-02           03            01    04   \n",
              "1438  03-01-07-02-01-02-03           03            01    07   \n",
              "1439  03-01-05-01-01-02-14           03            01    05   \n",
              "\n",
              "     Emotional intensity Statement Repetition Actor  \n",
              "0                     01        02         01    12  \n",
              "1                     01        01         02    13  \n",
              "2                     01        01         02    12  \n",
              "3                     02        01         02    23  \n",
              "4                     02        02         02    06  \n",
              "...                  ...       ...        ...   ...  \n",
              "1435                  02        01         01    19  \n",
              "1436                  01        01         01    09  \n",
              "1437                  02        02         01    02  \n",
              "1438                  02        01         02    03  \n",
              "1439                  01        01         02    14  \n",
              "\n",
              "[1440 rows x 8 columns]"
            ]
          },
          "execution_count": 2,
          "metadata": {},
          "output_type": "execute_result"
        }
      ],
      "source": [
        "ravdess_folder = \"./data_samples/RAVDESS\"\n",
        "excluded_files = [\"README.md\"]\n",
        "files = os.listdir(ravdess_folder)\n",
        "\n",
        "df = pd.DataFrame(columns=[\"id\",\"Type of file\", \"Voice channel\", \"Label\", \"Emotional intensity\", \"Statement\", \"Repetition\", \"Actor\"])\n",
        "\n",
        "for file in files:\n",
        "    if file not in excluded_files:\n",
        "        formatted_name_file = file.split(\".\")[0]\n",
        "        data_file = formatted_name_file.split(\"-\")\n",
        "\n",
        "        data = {\"id\": formatted_name_file, \"Type of file\": data_file[0], \"Voice channel\": data_file[1], \"Label\": data_file[2], \"Emotional intensity\": data_file[3], \"Statement\": data_file[4], \"Repetition\": data_file[5], \"Actor\": data_file[6]}\n",
        "        tmp = pd.DataFrame(data=data, index=[0])\n",
        "\n",
        "        df = pd.concat([df,tmp], ignore_index=True)\n",
        "df\n"
      ]
    },
    {
      "cell_type": "markdown",
      "id": "289677cc",
      "metadata": {},
      "source": [
        "## Preprocessing"
      ]
    },
    {
      "cell_type": "markdown",
      "id": "a1e7f731",
      "metadata": {},
      "source": [
        "### MFCC"
      ]
    },
    {
      "cell_type": "code",
      "execution_count": 9,
      "id": "15bb4bab",
      "metadata": {},
      "outputs": [],
      "source": [
        "import librosa\n",
        "\n",
        "X = []\n",
        "Y = []\n",
        "\n",
        "ravdess_folder = \"./data_samples/RAVDESS\"\n",
        "excluded_files = [\"README.md\"]\n",
        "files = os.listdir(ravdess_folder)\n",
        "\n",
        "for file in files:\n",
        "    if file not in excluded_files:\n",
        "        X.append(librosa.load(ravdess_folder+\"/\"+file))\n",
        "        Y.append(file.split(\"-\")[2])"
      ]
    },
    {
      "cell_type": "markdown",
      "id": "42a860e7-245b-4c09-b610-634dfa5a501e",
      "metadata": {
        "id": "42a860e7-245b-4c09-b610-634dfa5a501e"
      },
      "source": [
        "## Benchmark of models"
      ]
    },
    {
      "cell_type": "code",
      "execution_count": 4,
      "id": "b2aadc80-e7f4-4bf1-aae8-139ed6c1c4d3",
      "metadata": {
        "id": "b2aadc80-e7f4-4bf1-aae8-139ed6c1c4d3"
      },
      "outputs": [],
      "source": [
        "# ML Imports\n",
        "\n",
        "from sklearn.neighbors import KNeighborsClassifier\n",
        "\n",
        "id_to_emotion_dict = {0:\"neutral\", 1: \"angry\", 2: \"happiness\", 3: \"disgust\", 4: \"sadness\", 5: \"fear\", 6: \"surprise\"}\n",
        "emotion_to_id_dict = {\"neutral\": 0, \"angry\": 1, \"happiness\": 2, \"disgust\": 3, \"sadness\": 4, \"fear\": 5, \"surprise\": 6}"
      ]
    },
    {
      "cell_type": "markdown",
      "id": "e84c5b72-018b-4dca-b616-981f7b3ce6e1",
      "metadata": {
        "id": "e84c5b72-018b-4dca-b616-981f7b3ce6e1"
      },
      "source": [
        "### K-Nearest Neighbors (KNN)"
      ]
    },
    {
      "cell_type": "code",
      "execution_count": 10,
      "id": "giMixwDEYiq7",
      "metadata": {
        "colab": {
          "base_uri": "https://localhost:8080/",
          "height": 444
        },
        "id": "giMixwDEYiq7",
        "outputId": "03f28f9a-fc97-440a-acc4-ebe0b64a3d12"
      },
      "outputs": [
        {
          "ename": "ValueError",
          "evalue": "setting an array element with a sequence. The requested array has an inhomogeneous shape after 2 dimensions. The detected shape was (1440, 2) + inhomogeneous part.",
          "output_type": "error",
          "traceback": [
            "\u001b[0;31m---------------------------------------------------------------------------\u001b[0m",
            "\u001b[0;31mValueError\u001b[0m                                Traceback (most recent call last)",
            "\u001b[1;32m/home/lucas/Documents/5A/IHME/emotion_detection/src/Benchmark_ML.ipynb Cell 13\u001b[0m line \u001b[0;36m1\n\u001b[1;32m      <a href='vscode-notebook-cell:/home/lucas/Documents/5A/IHME/emotion_detection/src/Benchmark_ML.ipynb#X21sZmlsZQ%3D%3D?line=7'>8</a>\u001b[0m \u001b[39m# Code\u001b[39;00m\n\u001b[1;32m      <a href='vscode-notebook-cell:/home/lucas/Documents/5A/IHME/emotion_detection/src/Benchmark_ML.ipynb#X21sZmlsZQ%3D%3D?line=8'>9</a>\u001b[0m knn \u001b[39m=\u001b[39m KNeighborsClassifier(n_neighbors\u001b[39m=\u001b[39mN)\n\u001b[0;32m---> <a href='vscode-notebook-cell:/home/lucas/Documents/5A/IHME/emotion_detection/src/Benchmark_ML.ipynb#X21sZmlsZQ%3D%3D?line=9'>10</a>\u001b[0m knn\u001b[39m.\u001b[39;49mfit(X,Y)\n",
            "File \u001b[0;32m/usr/local/lib/python3.10/dist-packages/sklearn/neighbors/_classification.py:207\u001b[0m, in \u001b[0;36mKNeighborsClassifier.fit\u001b[0;34m(self, X, y)\u001b[0m\n\u001b[1;32m    188\u001b[0m \u001b[39m\u001b[39m\u001b[39m\"\"\"Fit the k-nearest neighbors classifier from the training dataset.\u001b[39;00m\n\u001b[1;32m    189\u001b[0m \n\u001b[1;32m    190\u001b[0m \u001b[39mParameters\u001b[39;00m\n\u001b[0;32m   (...)\u001b[0m\n\u001b[1;32m    203\u001b[0m \u001b[39m    The fitted k-nearest neighbors classifier.\u001b[39;00m\n\u001b[1;32m    204\u001b[0m \u001b[39m\"\"\"\u001b[39;00m\n\u001b[1;32m    205\u001b[0m \u001b[39mself\u001b[39m\u001b[39m.\u001b[39mweights \u001b[39m=\u001b[39m _check_weights(\u001b[39mself\u001b[39m\u001b[39m.\u001b[39mweights)\n\u001b[0;32m--> 207\u001b[0m \u001b[39mreturn\u001b[39;00m \u001b[39mself\u001b[39;49m\u001b[39m.\u001b[39;49m_fit(X, y)\n",
            "File \u001b[0;32m/usr/local/lib/python3.10/dist-packages/sklearn/neighbors/_base.py:407\u001b[0m, in \u001b[0;36mNeighborsBase._fit\u001b[0;34m(self, X, y)\u001b[0m\n\u001b[1;32m    405\u001b[0m \u001b[39mif\u001b[39;00m \u001b[39mself\u001b[39m\u001b[39m.\u001b[39m_get_tags()[\u001b[39m\"\u001b[39m\u001b[39mrequires_y\u001b[39m\u001b[39m\"\u001b[39m]:\n\u001b[1;32m    406\u001b[0m     \u001b[39mif\u001b[39;00m \u001b[39mnot\u001b[39;00m \u001b[39misinstance\u001b[39m(X, (KDTree, BallTree, NeighborsBase)):\n\u001b[0;32m--> 407\u001b[0m         X, y \u001b[39m=\u001b[39m \u001b[39mself\u001b[39;49m\u001b[39m.\u001b[39;49m_validate_data(\n\u001b[1;32m    408\u001b[0m             X, y, accept_sparse\u001b[39m=\u001b[39;49m\u001b[39m\"\u001b[39;49m\u001b[39mcsr\u001b[39;49m\u001b[39m\"\u001b[39;49m, multi_output\u001b[39m=\u001b[39;49m\u001b[39mTrue\u001b[39;49;00m, order\u001b[39m=\u001b[39;49m\u001b[39m\"\u001b[39;49m\u001b[39mC\u001b[39;49m\u001b[39m\"\u001b[39;49m\n\u001b[1;32m    409\u001b[0m         )\n\u001b[1;32m    411\u001b[0m     \u001b[39mif\u001b[39;00m is_classifier(\u001b[39mself\u001b[39m):\n\u001b[1;32m    412\u001b[0m         \u001b[39m# Classification targets require a specific format\u001b[39;00m\n\u001b[1;32m    413\u001b[0m         \u001b[39mif\u001b[39;00m y\u001b[39m.\u001b[39mndim \u001b[39m==\u001b[39m \u001b[39m1\u001b[39m \u001b[39mor\u001b[39;00m y\u001b[39m.\u001b[39mndim \u001b[39m==\u001b[39m \u001b[39m2\u001b[39m \u001b[39mand\u001b[39;00m y\u001b[39m.\u001b[39mshape[\u001b[39m1\u001b[39m] \u001b[39m==\u001b[39m \u001b[39m1\u001b[39m:\n",
            "File \u001b[0;32m/usr/local/lib/python3.10/dist-packages/sklearn/base.py:596\u001b[0m, in \u001b[0;36mBaseEstimator._validate_data\u001b[0;34m(self, X, y, reset, validate_separately, **check_params)\u001b[0m\n\u001b[1;32m    594\u001b[0m         y \u001b[39m=\u001b[39m check_array(y, input_name\u001b[39m=\u001b[39m\u001b[39m\"\u001b[39m\u001b[39my\u001b[39m\u001b[39m\"\u001b[39m, \u001b[39m*\u001b[39m\u001b[39m*\u001b[39mcheck_y_params)\n\u001b[1;32m    595\u001b[0m     \u001b[39melse\u001b[39;00m:\n\u001b[0;32m--> 596\u001b[0m         X, y \u001b[39m=\u001b[39m check_X_y(X, y, \u001b[39m*\u001b[39;49m\u001b[39m*\u001b[39;49mcheck_params)\n\u001b[1;32m    597\u001b[0m     out \u001b[39m=\u001b[39m X, y\n\u001b[1;32m    599\u001b[0m \u001b[39mif\u001b[39;00m \u001b[39mnot\u001b[39;00m no_val_X \u001b[39mand\u001b[39;00m check_params\u001b[39m.\u001b[39mget(\u001b[39m\"\u001b[39m\u001b[39mensure_2d\u001b[39m\u001b[39m\"\u001b[39m, \u001b[39mTrue\u001b[39;00m):\n",
            "File \u001b[0;32m/usr/local/lib/python3.10/dist-packages/sklearn/utils/validation.py:1074\u001b[0m, in \u001b[0;36mcheck_X_y\u001b[0;34m(X, y, accept_sparse, accept_large_sparse, dtype, order, copy, force_all_finite, ensure_2d, allow_nd, multi_output, ensure_min_samples, ensure_min_features, y_numeric, estimator)\u001b[0m\n\u001b[1;32m   1069\u001b[0m         estimator_name \u001b[39m=\u001b[39m _check_estimator_name(estimator)\n\u001b[1;32m   1070\u001b[0m     \u001b[39mraise\u001b[39;00m \u001b[39mValueError\u001b[39;00m(\n\u001b[1;32m   1071\u001b[0m         \u001b[39mf\u001b[39m\u001b[39m\"\u001b[39m\u001b[39m{\u001b[39;00mestimator_name\u001b[39m}\u001b[39;00m\u001b[39m requires y to be passed, but the target y is None\u001b[39m\u001b[39m\"\u001b[39m\n\u001b[1;32m   1072\u001b[0m     )\n\u001b[0;32m-> 1074\u001b[0m X \u001b[39m=\u001b[39m check_array(\n\u001b[1;32m   1075\u001b[0m     X,\n\u001b[1;32m   1076\u001b[0m     accept_sparse\u001b[39m=\u001b[39;49maccept_sparse,\n\u001b[1;32m   1077\u001b[0m     accept_large_sparse\u001b[39m=\u001b[39;49maccept_large_sparse,\n\u001b[1;32m   1078\u001b[0m     dtype\u001b[39m=\u001b[39;49mdtype,\n\u001b[1;32m   1079\u001b[0m     order\u001b[39m=\u001b[39;49morder,\n\u001b[1;32m   1080\u001b[0m     copy\u001b[39m=\u001b[39;49mcopy,\n\u001b[1;32m   1081\u001b[0m     force_all_finite\u001b[39m=\u001b[39;49mforce_all_finite,\n\u001b[1;32m   1082\u001b[0m     ensure_2d\u001b[39m=\u001b[39;49mensure_2d,\n\u001b[1;32m   1083\u001b[0m     allow_nd\u001b[39m=\u001b[39;49mallow_nd,\n\u001b[1;32m   1084\u001b[0m     ensure_min_samples\u001b[39m=\u001b[39;49mensure_min_samples,\n\u001b[1;32m   1085\u001b[0m     ensure_min_features\u001b[39m=\u001b[39;49mensure_min_features,\n\u001b[1;32m   1086\u001b[0m     estimator\u001b[39m=\u001b[39;49mestimator,\n\u001b[1;32m   1087\u001b[0m     input_name\u001b[39m=\u001b[39;49m\u001b[39m\"\u001b[39;49m\u001b[39mX\u001b[39;49m\u001b[39m\"\u001b[39;49m,\n\u001b[1;32m   1088\u001b[0m )\n\u001b[1;32m   1090\u001b[0m y \u001b[39m=\u001b[39m _check_y(y, multi_output\u001b[39m=\u001b[39mmulti_output, y_numeric\u001b[39m=\u001b[39my_numeric, estimator\u001b[39m=\u001b[39mestimator)\n\u001b[1;32m   1092\u001b[0m check_consistent_length(X, y)\n",
            "File \u001b[0;32m/usr/local/lib/python3.10/dist-packages/sklearn/utils/validation.py:856\u001b[0m, in \u001b[0;36mcheck_array\u001b[0;34m(array, accept_sparse, accept_large_sparse, dtype, order, copy, force_all_finite, ensure_2d, allow_nd, ensure_min_samples, ensure_min_features, estimator, input_name)\u001b[0m\n\u001b[1;32m    854\u001b[0m         array \u001b[39m=\u001b[39m array\u001b[39m.\u001b[39mastype(dtype, casting\u001b[39m=\u001b[39m\u001b[39m\"\u001b[39m\u001b[39munsafe\u001b[39m\u001b[39m\"\u001b[39m, copy\u001b[39m=\u001b[39m\u001b[39mFalse\u001b[39;00m)\n\u001b[1;32m    855\u001b[0m     \u001b[39melse\u001b[39;00m:\n\u001b[0;32m--> 856\u001b[0m         array \u001b[39m=\u001b[39m np\u001b[39m.\u001b[39;49masarray(array, order\u001b[39m=\u001b[39;49morder, dtype\u001b[39m=\u001b[39;49mdtype)\n\u001b[1;32m    857\u001b[0m \u001b[39mexcept\u001b[39;00m ComplexWarning \u001b[39mas\u001b[39;00m complex_warning:\n\u001b[1;32m    858\u001b[0m     \u001b[39mraise\u001b[39;00m \u001b[39mValueError\u001b[39;00m(\n\u001b[1;32m    859\u001b[0m         \u001b[39m\"\u001b[39m\u001b[39mComplex data not supported\u001b[39m\u001b[39m\\n\u001b[39;00m\u001b[39m{}\u001b[39;00m\u001b[39m\\n\u001b[39;00m\u001b[39m\"\u001b[39m\u001b[39m.\u001b[39mformat(array)\n\u001b[1;32m    860\u001b[0m     ) \u001b[39mfrom\u001b[39;00m \u001b[39mcomplex_warning\u001b[39;00m\n",
            "\u001b[0;31mValueError\u001b[0m: setting an array element with a sequence. The requested array has an inhomogeneous shape after 2 dimensions. The detected shape was (1440, 2) + inhomogeneous part."
          ]
        }
      ],
      "source": [
        "# Inputs\n",
        "data = []\n",
        "classes = []\n",
        "\n",
        "# Parameters\n",
        "N = 5 # Number of neighbors to use by default for kneighbors queries\n",
        "\n",
        "# Code\n",
        "knn = KNeighborsClassifier(n_neighbors=N)\n",
        "knn.fit(X,Y)"
      ]
    },
    {
      "cell_type": "markdown",
      "id": "404bcd58-d01b-4c25-95fa-f9526e72bc10",
      "metadata": {
        "id": "404bcd58-d01b-4c25-95fa-f9526e72bc10"
      },
      "source": [
        " ### Support Vector Machine (SVM)\n"
      ]
    },
    {
      "cell_type": "code",
      "execution_count": null,
      "id": "0dCZdrdQYi_o",
      "metadata": {
        "id": "0dCZdrdQYi_o"
      },
      "outputs": [],
      "source": []
    },
    {
      "cell_type": "markdown",
      "id": "ZN1X_xD8YRnH",
      "metadata": {
        "id": "ZN1X_xD8YRnH"
      },
      "source": [
        "### Linear Prediction Cepstral Coefficient (LPCC)"
      ]
    },
    {
      "cell_type": "code",
      "execution_count": null,
      "id": "PYSxSBmnYjiB",
      "metadata": {
        "id": "PYSxSBmnYjiB"
      },
      "outputs": [],
      "source": []
    },
    {
      "cell_type": "markdown",
      "id": "aDWhVDvJYR1t",
      "metadata": {
        "id": "aDWhVDvJYR1t"
      },
      "source": [
        "### Bag of Audio-Word"
      ]
    },
    {
      "cell_type": "code",
      "execution_count": null,
      "id": "4f1O9gvtYkKA",
      "metadata": {
        "id": "4f1O9gvtYkKA"
      },
      "outputs": [],
      "source": []
    },
    {
      "cell_type": "markdown",
      "id": "66SF4moRYR82",
      "metadata": {
        "id": "66SF4moRYR82"
      },
      "source": [
        "### Mel-Frequency Cepstrum Coefficients (MFCC)"
      ]
    },
    {
      "cell_type": "code",
      "execution_count": null,
      "id": "m8TFEzwkYhex",
      "metadata": {
        "id": "m8TFEzwkYhex"
      },
      "outputs": [],
      "source": []
    }
  ],
  "metadata": {
    "colab": {
      "provenance": []
    },
    "kernelspec": {
      "display_name": "Python 3 (ipykernel)",
      "language": "python",
      "name": "python3"
    },
    "language_info": {
      "codemirror_mode": {
        "name": "ipython",
        "version": 3
      },
      "file_extension": ".py",
      "mimetype": "text/x-python",
      "name": "python",
      "nbconvert_exporter": "python",
      "pygments_lexer": "ipython3",
      "version": "3.10.12"
    }
  },
  "nbformat": 4,
  "nbformat_minor": 5
}
