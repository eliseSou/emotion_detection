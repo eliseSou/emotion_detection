{
 "cells": [
  {
   "cell_type": "markdown",
   "id": "58766f63-d8a2-4c7b-be64-29c2b5edbc1f",
   "metadata": {
    "id": "58766f63-d8a2-4c7b-be64-29c2b5edbc1f"
   },
   "source": [
    "# <center>Real-time emotion detection</center>\n",
    "\n",
    "Authors : DOUET Marie, GRINDEL Brice, MARTIN Lucas, SOUVANNAVONG Elise"
   ]
  },
  {
   "cell_type": "markdown",
   "id": "a6dd6d75-9298-43cb-8652-3bbe6ce68884",
   "metadata": {
    "id": "a6dd6d75-9298-43cb-8652-3bbe6ce68884"
   },
   "source": [
    "## Global imports"
   ]
  },
  {
   "cell_type": "code",
   "execution_count": 15,
   "id": "78f0e6f3-5f21-4b2c-ac1b-054dd8b0c3b4",
   "metadata": {
    "id": "78f0e6f3-5f21-4b2c-ac1b-054dd8b0c3b4"
   },
   "outputs": [],
   "source": [
    "import numpy as np\n",
    "import os\n",
    "import soundfile\n",
    "import librosa\n",
    "from sklearn.model_selection import train_test_split\n",
    "from sklearn.metrics import accuracy_score\n",
    "from tqdm.notebook import tqdm_notebook\n",
    "import pandas as pd"
   ]
  },
  {
   "cell_type": "markdown",
   "id": "92224615-2952-416e-bf74-7955c188449e",
   "metadata": {},
   "source": [
    "## Global functions"
   ]
  },
  {
   "cell_type": "code",
   "execution_count": 2,
   "id": "f628c3b2-0aee-40c8-86d1-a418dab3a20d",
   "metadata": {},
   "outputs": [],
   "source": [
    "def extract_feature(file_name, mfcc=True, chroma=True, mel=True):\n",
    "    with soundfile.SoundFile(file_name) as sound_file:\n",
    "        X = sound_file.read(dtype=\"float32\")\n",
    "\n",
    "        sample_rate = sound_file.samplerate\n",
    "\n",
    "        if chroma:\n",
    "            stft = np.abs(librosa.stft(X))\n",
    "        result=np.array([])\n",
    "\n",
    "        # MFCC Criterias (short-term power spectrum of a sound)\n",
    "        if mfcc:\n",
    "            mfccs = np.mean(librosa.feature.mfcc(y=X, sr=sample_rate, n_mfcc=40).T, axis=0)\n",
    "            result = np.hstack((result, mfccs))\n",
    "\n",
    "        # Pertains to the 12 diffrent pitch classes\n",
    "        if chroma:\n",
    "            chroma = np.mean(librosa.feature.chroma_stft(S=stft, sr=sample_rate).T,axis=0)\n",
    "            result = np.hstack((result, chroma))\n",
    "        \n",
    "        # MEL Spectrogram Frequency\n",
    "        if mel:\n",
    "            mel = np.mean(librosa.feature.melspectrogram(y=X, sr=sample_rate).T,axis=0)\n",
    "            result = np.hstack((result, mel))\n",
    "    return result"
   ]
  },
  {
   "cell_type": "markdown",
   "id": "d44b126b-6f6f-4339-9011-58f650149ac9",
   "metadata": {
    "id": "d44b126b-6f6f-4339-9011-58f650149ac9"
   },
   "source": [
    "## Benchmark of datasets"
   ]
  },
  {
   "cell_type": "markdown",
   "id": "e0506795",
   "metadata": {
    "jp-MarkdownHeadingCollapsed": true
   },
   "source": [
    "### RAVDESS"
   ]
  },
  {
   "cell_type": "code",
   "execution_count": 3,
   "id": "b2bd9806",
   "metadata": {},
   "outputs": [],
   "source": [
    "emotions = {\n",
    "    '01': \"neutral\", \n",
    "    '02': \"calm\", \n",
    "    '03': \"happy\", \n",
    "    '04': \"sad\", \n",
    "    '05': \"angry\", \n",
    "    '06': \"fearful\", \n",
    "    '07': \"disgust\", \n",
    "    '08': \"surprised\"\n",
    "}\n",
    "\n",
    "# Removed 'calm' emotion\n",
    "observed_emotions = ['neutral', 'happy', 'sad', 'angry', 'fearful', 'disgust', 'surprised']"
   ]
  },
  {
   "cell_type": "code",
   "execution_count": 4,
   "id": "289edf7d",
   "metadata": {},
   "outputs": [],
   "source": [
    "def load_data(folder_path, emotions, excluded_files=[], test_size=0.2):\n",
    "    x,y = [],[]\n",
    "    files = os.listdir(folder_path)\n",
    "    \n",
    "    # iterations with the progress bar\n",
    "    for i in tqdm_notebook(range(len(files)-len(excluded_files))):\n",
    "        file = files[i]\n",
    "        \n",
    "        if file not in excluded_files:\n",
    "            file_name = os.path.basename(file)\n",
    "            emotion = emotions[file_name.split(\"-\")[2]]\n",
    "\n",
    "            if emotion not in observed_emotions:\n",
    "                continue\n",
    "\n",
    "            feature = extract_feature(folder_path + \"/\" + file)\n",
    "\n",
    "            x.append(feature)\n",
    "            y.append(emotion)\n",
    "    return np.array(x), np.array(y)"
   ]
  },
  {
   "cell_type": "code",
   "execution_count": 5,
   "id": "b139a51c",
   "metadata": {},
   "outputs": [
    {
     "data": {
      "application/vnd.jupyter.widget-view+json": {
       "model_id": "b6b67f0223e740669236cfeb1b8fc0ec",
       "version_major": 2,
       "version_minor": 0
      },
      "text/plain": [
       "  0%|          | 0/1437 [00:00<?, ?it/s]"
      ]
     },
     "metadata": {},
     "output_type": "display_data"
    }
   ],
   "source": [
    "ravdess_folder = \"./data_samples/RAVDESS\"\n",
    "excluded_files = [\"README.md\",\"03-01-06-01-01-02-20.wav\", \"03-01-08-01-02-02-01.wav\", \"03-01-03-01-02-01-20.wav\"]\n",
    "\n",
    "x,y = load_data(ravdess_folder, emotions=emotions, excluded_files=excluded_files)\n",
    "x_train, x_test, y_train, y_test = train_test_split(x, y, shuffle=True, test_size=0.25, random_state=42)"
   ]
  },
  {
   "cell_type": "markdown",
   "id": "289677cc",
   "metadata": {},
   "source": [
    "## Preprocessing"
   ]
  },
  {
   "cell_type": "markdown",
   "id": "a1e7f731",
   "metadata": {},
   "source": [
    "### MFCC"
   ]
  },
  {
   "cell_type": "markdown",
   "id": "42a860e7-245b-4c09-b610-634dfa5a501e",
   "metadata": {
    "id": "42a860e7-245b-4c09-b610-634dfa5a501e"
   },
   "source": [
    "## Benchmark of models"
   ]
  },
  {
   "cell_type": "markdown",
   "id": "404bcd58-d01b-4c25-95fa-f9526e72bc10",
   "metadata": {
    "id": "404bcd58-d01b-4c25-95fa-f9526e72bc10"
   },
   "source": [
    "### 1 - Support Vector Machine (SVM) (Gridsearch)"
   ]
  },
  {
   "cell_type": "code",
   "execution_count": 6,
   "id": "aa4950d8",
   "metadata": {},
   "outputs": [
    {
     "name": "stdout",
     "output_type": "stream",
     "text": [
      "{'C': 100, 'gamma': 0.0001, 'kernel': 'rbf'}\n"
     ]
    }
   ],
   "source": [
    "from sklearn import svm\n",
    "from sklearn.model_selection import GridSearchCV, RandomizedSearchCV\n",
    "\n",
    "param_grid = {\n",
    "    'C': [0.1, 1, 10, 100, 1000],  \n",
    "    'gamma': [1, 0.1, 0.01, 0.001, 0.0001], \n",
    "    'kernel': ['rbf','linear']\n",
    "}\n",
    "\n",
    "grid = GridSearchCV(svm.SVC(), param_grid, refit = True, verbose=0)\n",
    "grid.fit(x_train, y_train) \n",
    "\n",
    "print(grid.best_params_)"
   ]
  },
  {
   "cell_type": "code",
   "execution_count": 18,
   "id": "0dCZdrdQYi_o",
   "metadata": {
    "id": "0dCZdrdQYi_o"
   },
   "outputs": [
    {
     "name": "stdout",
     "output_type": "stream",
     "text": [
      "Accuracy :  62.06 %\n"
     ]
    }
   ],
   "source": [
    "# Select best hyper-parameters for SVM model\n",
    "# C=100, gamma=0.0001, kernel=rbf \n",
    "C_opti, gamma_opti, kernel_opti = grid.best_params_['C'], grid.best_params_['gamma'], grid.best_params_['kernel']\n",
    "\n",
    "svc = svm.SVC(C=C_opti, gamma=gamma_opti, kernel=kernel_opti)\n",
    "svc.fit(x_train, y_train)\n",
    "\n",
    "y_pred = svc.predict(x_test)\n",
    "\n",
    "accuracy = round(accuracy_score(y_true=y_test,y_pred=y_pred)*100,2)\n",
    "print(\"Accuracy : \", accuracy,\"%\")"
   ]
  },
  {
   "cell_type": "markdown",
   "id": "02c7fb2e",
   "metadata": {},
   "source": [
    "### 2 - Multi-layer Perceptron Classifer (MLPC)"
   ]
  },
  {
   "cell_type": "code",
   "execution_count": 19,
   "id": "7d07f939",
   "metadata": {},
   "outputs": [
    {
     "name": "stdout",
     "output_type": "stream",
     "text": [
      "Accuracy :  55.63 %\n"
     ]
    }
   ],
   "source": [
    "from sklearn.neural_network import MLPClassifier\n",
    "\n",
    "mlpc = MLPClassifier(alpha=0.01, batch_size=256, epsilon=1e-08, hidden_layer_sizes=(300,), learning_rate='adaptive', max_iter=500)\n",
    "mlpc.fit(x_train,y_train)\n",
    "\n",
    "y_pred = mlpc.predict(x_test)\n",
    "\n",
    "accuracy = round(accuracy_score(y_true=y_test,y_pred=y_pred)*100,2)\n",
    "print(\"Accuracy : \", accuracy,\"%\")"
   ]
  },
  {
   "cell_type": "markdown",
   "id": "9073cda4-0ca4-4186-b138-8e4c78cfd67c",
   "metadata": {},
   "source": [
    "### 3 - Random Forest"
   ]
  },
  {
   "cell_type": "code",
   "execution_count": 20,
   "id": "8bbec4dd-daab-4d8d-a733-4370baaa3df9",
   "metadata": {},
   "outputs": [
    {
     "name": "stdout",
     "output_type": "stream",
     "text": [
      "Accuracy :  55.31 %\n"
     ]
    }
   ],
   "source": [
    "from sklearn.ensemble import RandomForestClassifier\n",
    "\n",
    "rforest = RandomForestClassifier()\n",
    "rforest.fit(x_train, y_train)\n",
    "\n",
    "y_pred = rforest.predict(x_test)\n",
    "\n",
    "accuracy = round(accuracy_score(y_true=y_test,y_pred=y_pred)*100,2)\n",
    "print(\"Accuracy : \", accuracy,\"%\")"
   ]
  },
  {
   "cell_type": "markdown",
   "id": "ZN1X_xD8YRnH",
   "metadata": {
    "id": "ZN1X_xD8YRnH"
   },
   "source": [
    "### Linear Prediction Cepstral Coefficient (LPCC)"
   ]
  },
  {
   "cell_type": "code",
   "execution_count": null,
   "id": "PYSxSBmnYjiB",
   "metadata": {
    "id": "PYSxSBmnYjiB"
   },
   "outputs": [],
   "source": []
  },
  {
   "cell_type": "markdown",
   "id": "53469a90",
   "metadata": {},
   "source": [
    "## Results of the benchmark"
   ]
  },
  {
   "cell_type": "markdown",
   "id": "912345a6",
   "metadata": {},
   "source": [
    "### Cross validation"
   ]
  },
  {
   "cell_type": "code",
   "execution_count": 38,
   "id": "7ef55ce6",
   "metadata": {},
   "outputs": [],
   "source": [
    "from sklearn.model_selection import cross_val_score\n",
    "\n",
    "svm_scores = cross_val_score(svc, x,y, cv=5)\n",
    "mlpc_scores = cross_val_score(mlpc, x,y, cv=5)\n",
    "rforest_scores = cross_val_score(rforest, x,y, cv=5)\n",
    "\n",
    "names = [\"SVM\", \"MLPC\", \"Random Forest\"]\n",
    "means = [np.mean(svm_scores), np.mean(mlpc_scores), np.mean(rforest_scores)]\n",
    "stds = [np.std(svm_scores), np.std(mlpc_scores), np.std(rforest_scores)]\n",
    "mins = [min(svm_scores), min(mlpc_scores), min(rforest_scores)]\n",
    "maxs = [max(svm_scores), max(mlpc_scores), max(rforest_scores)]"
   ]
  },
  {
   "cell_type": "code",
   "execution_count": null,
   "id": "15f0b465",
   "metadata": {},
   "outputs": [
    {
     "data": {
      "text/html": [
       "<div>\n",
       "<style scoped>\n",
       "    .dataframe tbody tr th:only-of-type {\n",
       "        vertical-align: middle;\n",
       "    }\n",
       "\n",
       "    .dataframe tbody tr th {\n",
       "        vertical-align: top;\n",
       "    }\n",
       "\n",
       "    .dataframe thead th {\n",
       "        text-align: right;\n",
       "    }\n",
       "</style>\n",
       "<table border=\"1\" class=\"dataframe\">\n",
       "  <thead>\n",
       "    <tr style=\"text-align: right;\">\n",
       "      <th></th>\n",
       "      <th>name</th>\n",
       "      <th>min</th>\n",
       "      <th>max</th>\n",
       "      <th>mean</th>\n",
       "      <th>var</th>\n",
       "    </tr>\n",
       "  </thead>\n",
       "  <tbody>\n",
       "    <tr>\n",
       "      <th>0</th>\n",
       "      <td>SVM</td>\n",
       "      <td>55.24</td>\n",
       "      <td>68.15</td>\n",
       "      <td>60.596</td>\n",
       "      <td>4.550475</td>\n",
       "    </tr>\n",
       "    <tr>\n",
       "      <th>1</th>\n",
       "      <td>MLPC</td>\n",
       "      <td>46.77</td>\n",
       "      <td>57.26</td>\n",
       "      <td>51.492</td>\n",
       "      <td>3.805782</td>\n",
       "    </tr>\n",
       "    <tr>\n",
       "      <th>2</th>\n",
       "      <td>Random Forest</td>\n",
       "      <td>52.82</td>\n",
       "      <td>61.69</td>\n",
       "      <td>57.694</td>\n",
       "      <td>2.869764</td>\n",
       "    </tr>\n",
       "  </tbody>\n",
       "</table>\n",
       "</div>"
      ],
      "text/plain": [
       "            name    min    max    mean       var\n",
       "0            SVM  55.24  68.15  60.596  4.550475\n",
       "1           MLPC  46.77  57.26  51.492  3.805782\n",
       "2  Random Forest  52.82  61.69  57.694  2.869764"
      ]
     },
     "execution_count": 36,
     "metadata": {},
     "output_type": "execute_result"
    }
   ],
   "source": [
    "data = {\n",
    "    'name': names,\n",
    "    'min': mins,\n",
    "    'max': maxs,\n",
    "    'mean': means,\n",
    "    'var': stds\n",
    "}\n",
    "\n",
    "df = pd.DataFrame(data=data)\n",
    "df"
   ]
  }
 ],
 "metadata": {
  "colab": {
   "provenance": []
  },
  "kernelspec": {
   "display_name": "Python 3 (ipykernel)",
   "language": "python",
   "name": "python3"
  },
  "language_info": {
   "codemirror_mode": {
    "name": "ipython",
    "version": 3
   },
   "file_extension": ".py",
   "mimetype": "text/x-python",
   "name": "python",
   "nbconvert_exporter": "python",
   "pygments_lexer": "ipython3",
   "version": "3.10.12"
  }
 },
 "nbformat": 4,
 "nbformat_minor": 5
}
